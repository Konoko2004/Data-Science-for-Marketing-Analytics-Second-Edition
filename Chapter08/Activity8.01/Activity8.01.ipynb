{
 "cells": [
  {
   "cell_type": "markdown",
   "metadata": {},
   "source": [
    "### Scroll Down Below to start from Activity 8.01"
   ]
  },
  {
   "cell_type": "code",
   "execution_count": 1,
   "metadata": {},
   "outputs": [],
   "source": [
    "# Removes Warnings\n",
    "import warnings\n",
    "warnings.filterwarnings('ignore')\n",
    "#import the necessary packages\n",
    "import pandas as pd\n",
    "import numpy as np\n",
    "import matplotlib.pyplot as plt\n",
    "import seaborn as sns"
   ]
  },
  {
   "cell_type": "code",
   "execution_count": 2,
   "metadata": {},
   "outputs": [
    {
     "data": {
      "text/html": [
       "<div>\n",
       "<style scoped>\n",
       "    .dataframe tbody tr th:only-of-type {\n",
       "        vertical-align: middle;\n",
       "    }\n",
       "\n",
       "    .dataframe tbody tr th {\n",
       "        vertical-align: top;\n",
       "    }\n",
       "\n",
       "    .dataframe thead th {\n",
       "        text-align: right;\n",
       "    }\n",
       "</style>\n",
       "<table border=\"1\" class=\"dataframe\">\n",
       "  <thead>\n",
       "    <tr style=\"text-align: right;\">\n",
       "      <th></th>\n",
       "      <th>Target Churn</th>\n",
       "      <th>Target Code</th>\n",
       "      <th>Current Bill Amt</th>\n",
       "      <th>Avg Calls</th>\n",
       "      <th>Avg Calls Weekdays</th>\n",
       "      <th>Account Age</th>\n",
       "      <th>Percent Increase MOM</th>\n",
       "      <th>Acct Plan Subtype</th>\n",
       "      <th>Complaint Code</th>\n",
       "      <th>Avg Days Delinquent</th>\n",
       "      <th>Current TechSupComplaints</th>\n",
       "      <th>Current Days OpenWorkOrders</th>\n",
       "      <th>Equipment Age</th>\n",
       "      <th>Condition of Current Handset</th>\n",
       "      <th>Avg Hours WorkOrderOpenned</th>\n",
       "    </tr>\n",
       "  </thead>\n",
       "  <tbody>\n",
       "    <tr>\n",
       "      <th>0</th>\n",
       "      <td>No Churn</td>\n",
       "      <td>0</td>\n",
       "      <td>14210</td>\n",
       "      <td>17950.000000</td>\n",
       "      <td>30297.0000</td>\n",
       "      <td>24</td>\n",
       "      <td>-0.334193</td>\n",
       "      <td>Gold</td>\n",
       "      <td>Billing Problem</td>\n",
       "      <td>6.2</td>\n",
       "      <td>0</td>\n",
       "      <td>0.0</td>\n",
       "      <td>8</td>\n",
       "      <td>1.0</td>\n",
       "      <td>0.0</td>\n",
       "    </tr>\n",
       "    <tr>\n",
       "      <th>1</th>\n",
       "      <td>Churn</td>\n",
       "      <td>1</td>\n",
       "      <td>14407</td>\n",
       "      <td>0.000000</td>\n",
       "      <td>0.0000</td>\n",
       "      <td>28</td>\n",
       "      <td>0.000000</td>\n",
       "      <td>Silver</td>\n",
       "      <td>Moving</td>\n",
       "      <td>1.0</td>\n",
       "      <td>0</td>\n",
       "      <td>0.0</td>\n",
       "      <td>17</td>\n",
       "      <td>1.0</td>\n",
       "      <td>0.0</td>\n",
       "    </tr>\n",
       "    <tr>\n",
       "      <th>2</th>\n",
       "      <td>Churn</td>\n",
       "      <td>1</td>\n",
       "      <td>12712</td>\n",
       "      <td>204.666667</td>\n",
       "      <td>10393.6667</td>\n",
       "      <td>23</td>\n",
       "      <td>0.000000</td>\n",
       "      <td>Gold</td>\n",
       "      <td>Billing Problem</td>\n",
       "      <td>17.6</td>\n",
       "      <td>0</td>\n",
       "      <td>0.0</td>\n",
       "      <td>23</td>\n",
       "      <td>1.0</td>\n",
       "      <td>0.0</td>\n",
       "    </tr>\n",
       "    <tr>\n",
       "      <th>3</th>\n",
       "      <td>No Churn</td>\n",
       "      <td>0</td>\n",
       "      <td>13807</td>\n",
       "      <td>15490.333300</td>\n",
       "      <td>41256.3333</td>\n",
       "      <td>39</td>\n",
       "      <td>0.148986</td>\n",
       "      <td>Silver</td>\n",
       "      <td>Billing Problem</td>\n",
       "      <td>0.0</td>\n",
       "      <td>0</td>\n",
       "      <td>0.0</td>\n",
       "      <td>17</td>\n",
       "      <td>1.0</td>\n",
       "      <td>0.0</td>\n",
       "    </tr>\n",
       "    <tr>\n",
       "      <th>4</th>\n",
       "      <td>No Churn</td>\n",
       "      <td>0</td>\n",
       "      <td>3805</td>\n",
       "      <td>5075.000000</td>\n",
       "      <td>12333.3333</td>\n",
       "      <td>23</td>\n",
       "      <td>-0.686047</td>\n",
       "      <td>Gold</td>\n",
       "      <td>Billing Problem</td>\n",
       "      <td>3.8</td>\n",
       "      <td>0</td>\n",
       "      <td>0.0</td>\n",
       "      <td>10</td>\n",
       "      <td>1.0</td>\n",
       "      <td>0.0</td>\n",
       "    </tr>\n",
       "  </tbody>\n",
       "</table>\n",
       "</div>"
      ],
      "text/plain": [
       "  Target Churn  Target Code  Current Bill Amt     Avg Calls  \\\n",
       "0     No Churn            0             14210  17950.000000   \n",
       "1        Churn            1             14407      0.000000   \n",
       "2        Churn            1             12712    204.666667   \n",
       "3     No Churn            0             13807  15490.333300   \n",
       "4     No Churn            0              3805   5075.000000   \n",
       "\n",
       "   Avg Calls Weekdays  Account Age  Percent Increase MOM Acct Plan Subtype  \\\n",
       "0          30297.0000           24             -0.334193              Gold   \n",
       "1              0.0000           28              0.000000            Silver   \n",
       "2          10393.6667           23              0.000000              Gold   \n",
       "3          41256.3333           39              0.148986            Silver   \n",
       "4          12333.3333           23             -0.686047              Gold   \n",
       "\n",
       "    Complaint Code  Avg Days Delinquent  Current TechSupComplaints  \\\n",
       "0  Billing Problem                  6.2                          0   \n",
       "1           Moving                  1.0                          0   \n",
       "2  Billing Problem                 17.6                          0   \n",
       "3  Billing Problem                  0.0                          0   \n",
       "4  Billing Problem                  3.8                          0   \n",
       "\n",
       "   Current Days OpenWorkOrders  Equipment Age  Condition of Current Handset  \\\n",
       "0                          0.0              8                           1.0   \n",
       "1                          0.0             17                           1.0   \n",
       "2                          0.0             23                           1.0   \n",
       "3                          0.0             17                           1.0   \n",
       "4                          0.0             10                           1.0   \n",
       "\n",
       "   Avg Hours WorkOrderOpenned  \n",
       "0                         0.0  \n",
       "1                         0.0  \n",
       "2                         0.0  \n",
       "3                         0.0  \n",
       "4                         0.0  "
      ]
     },
     "execution_count": 2,
     "metadata": {},
     "output_type": "execute_result"
    }
   ],
   "source": [
    "data= pd.read_csv(r'Telco_Churn_Data.csv')\n",
    "data.head(5)"
   ]
  },
  {
   "cell_type": "code",
   "execution_count": 3,
   "metadata": {},
   "outputs": [
    {
     "data": {
      "text/plain": [
       "4708"
      ]
     },
     "execution_count": 3,
     "metadata": {},
     "output_type": "execute_result"
    }
   ],
   "source": [
    "len(data)"
   ]
  },
  {
   "cell_type": "code",
   "execution_count": 4,
   "metadata": {},
   "outputs": [
    {
     "data": {
      "text/plain": [
       "(4708, 15)"
      ]
     },
     "execution_count": 4,
     "metadata": {},
     "output_type": "execute_result"
    }
   ],
   "source": [
    "data.shape"
   ]
  },
  {
   "cell_type": "code",
   "execution_count": 5,
   "metadata": {},
   "outputs": [
    {
     "data": {
      "text/plain": [
       "True"
      ]
     },
     "execution_count": 5,
     "metadata": {},
     "output_type": "execute_result"
    }
   ],
   "source": [
    "data.isnull().values.any()"
   ]
  },
  {
   "cell_type": "code",
   "execution_count": 6,
   "metadata": {},
   "outputs": [
    {
     "name": "stdout",
     "output_type": "stream",
     "text": [
      "<class 'pandas.core.frame.DataFrame'>\n",
      "RangeIndex: 4708 entries, 0 to 4707\n",
      "Data columns (total 15 columns):\n",
      " #   Column                        Non-Null Count  Dtype  \n",
      "---  ------                        --------------  -----  \n",
      " 0   Target Churn                  4708 non-null   object \n",
      " 1   Target Code                   4708 non-null   int64  \n",
      " 2   Current Bill Amt              4708 non-null   int64  \n",
      " 3   Avg Calls                     4708 non-null   float64\n",
      " 4   Avg Calls Weekdays            4708 non-null   float64\n",
      " 5   Account Age                   4708 non-null   int64  \n",
      " 6   Percent Increase MOM          4708 non-null   float64\n",
      " 7   Acct Plan Subtype             4708 non-null   object \n",
      " 8   Complaint Code                4701 non-null   object \n",
      " 9   Avg Days Delinquent           4708 non-null   float64\n",
      " 10  Current TechSupComplaints     4708 non-null   int64  \n",
      " 11  Current Days OpenWorkOrders   4708 non-null   float64\n",
      " 12  Equipment Age                 4708 non-null   int64  \n",
      " 13  Condition of Current Handset  4264 non-null   float64\n",
      " 14  Avg Hours WorkOrderOpenned    4708 non-null   float64\n",
      "dtypes: float64(7), int64(5), object(3)\n",
      "memory usage: 551.8+ KB\n"
     ]
    }
   ],
   "source": [
    "data.info()"
   ]
  },
  {
   "cell_type": "code",
   "execution_count": 7,
   "metadata": {},
   "outputs": [],
   "source": [
    "## Bonus method for renaming the columns\n",
    "data.columns=data.columns.str.replace(' ','_')"
   ]
  },
  {
   "cell_type": "code",
   "execution_count": 8,
   "metadata": {},
   "outputs": [
    {
     "data": {
      "text/plain": [
       "Index(['Target_Churn', 'Target_Code', 'Current_Bill_Amt', 'Avg_Calls',\n",
       "       'Avg_Calls_Weekdays', 'Account_Age', 'Percent_Increase_MOM',\n",
       "       'Acct_Plan_Subtype', 'Complaint_Code', 'Avg_Days_Delinquent',\n",
       "       'Current_TechSupComplaints', 'Current_Days_OpenWorkOrders',\n",
       "       'Equipment_Age', 'Condition_of_Current_Handset',\n",
       "       'Avg_Hours_WorkOrderOpenned'],\n",
       "      dtype='object')"
      ]
     },
     "execution_count": 8,
     "metadata": {},
     "output_type": "execute_result"
    }
   ],
   "source": [
    "data.columns"
   ]
  },
  {
   "cell_type": "code",
   "execution_count": 9,
   "metadata": {},
   "outputs": [
    {
     "data": {
      "text/html": [
       "<div>\n",
       "<style scoped>\n",
       "    .dataframe tbody tr th:only-of-type {\n",
       "        vertical-align: middle;\n",
       "    }\n",
       "\n",
       "    .dataframe tbody tr th {\n",
       "        vertical-align: top;\n",
       "    }\n",
       "\n",
       "    .dataframe thead th {\n",
       "        text-align: right;\n",
       "    }\n",
       "</style>\n",
       "<table border=\"1\" class=\"dataframe\">\n",
       "  <thead>\n",
       "    <tr style=\"text-align: right;\">\n",
       "      <th></th>\n",
       "      <th>Target_Code</th>\n",
       "      <th>Current_Bill_Amt</th>\n",
       "      <th>Avg_Calls</th>\n",
       "      <th>Avg_Calls_Weekdays</th>\n",
       "      <th>Account_Age</th>\n",
       "      <th>Percent_Increase_MOM</th>\n",
       "      <th>Avg_Days_Delinquent</th>\n",
       "      <th>Current_TechSupComplaints</th>\n",
       "      <th>Current_Days_OpenWorkOrders</th>\n",
       "      <th>Equipment_Age</th>\n",
       "      <th>Condition_of_Current_Handset</th>\n",
       "      <th>Avg_Hours_WorkOrderOpenned</th>\n",
       "    </tr>\n",
       "  </thead>\n",
       "  <tbody>\n",
       "    <tr>\n",
       "      <th>count</th>\n",
       "      <td>4708.000000</td>\n",
       "      <td>4708.000000</td>\n",
       "      <td>4708.000000</td>\n",
       "      <td>4708.000000</td>\n",
       "      <td>4708.000000</td>\n",
       "      <td>4708.000000</td>\n",
       "      <td>4708.000000</td>\n",
       "      <td>4708.000000</td>\n",
       "      <td>4708.000000</td>\n",
       "      <td>4708.000000</td>\n",
       "      <td>4264.000000</td>\n",
       "      <td>4708.000000</td>\n",
       "    </tr>\n",
       "    <tr>\n",
       "      <th>mean</th>\n",
       "      <td>0.485769</td>\n",
       "      <td>19828.815845</td>\n",
       "      <td>9269.690314</td>\n",
       "      <td>38127.994973</td>\n",
       "      <td>26.079652</td>\n",
       "      <td>-0.005127</td>\n",
       "      <td>13.968564</td>\n",
       "      <td>0.414826</td>\n",
       "      <td>2.438828</td>\n",
       "      <td>10.811810</td>\n",
       "      <td>1.019231</td>\n",
       "      <td>0.936501</td>\n",
       "    </tr>\n",
       "    <tr>\n",
       "      <th>std</th>\n",
       "      <td>0.499851</td>\n",
       "      <td>17204.510108</td>\n",
       "      <td>10437.339850</td>\n",
       "      <td>39172.244943</td>\n",
       "      <td>7.149933</td>\n",
       "      <td>4.481852</td>\n",
       "      <td>10.789062</td>\n",
       "      <td>0.954549</td>\n",
       "      <td>20.197292</td>\n",
       "      <td>8.710548</td>\n",
       "      <td>0.144021</td>\n",
       "      <td>8.926752</td>\n",
       "    </tr>\n",
       "    <tr>\n",
       "      <th>min</th>\n",
       "      <td>0.000000</td>\n",
       "      <td>-690.000000</td>\n",
       "      <td>0.000000</td>\n",
       "      <td>0.000000</td>\n",
       "      <td>15.000000</td>\n",
       "      <td>-1.000000</td>\n",
       "      <td>0.000000</td>\n",
       "      <td>0.000000</td>\n",
       "      <td>0.000000</td>\n",
       "      <td>0.000000</td>\n",
       "      <td>1.000000</td>\n",
       "      <td>0.000000</td>\n",
       "    </tr>\n",
       "    <tr>\n",
       "      <th>25%</th>\n",
       "      <td>0.000000</td>\n",
       "      <td>12288.000000</td>\n",
       "      <td>2602.250002</td>\n",
       "      <td>13031.250025</td>\n",
       "      <td>20.000000</td>\n",
       "      <td>-0.574084</td>\n",
       "      <td>6.000000</td>\n",
       "      <td>0.000000</td>\n",
       "      <td>0.000000</td>\n",
       "      <td>4.000000</td>\n",
       "      <td>1.000000</td>\n",
       "      <td>0.000000</td>\n",
       "    </tr>\n",
       "    <tr>\n",
       "      <th>50%</th>\n",
       "      <td>0.000000</td>\n",
       "      <td>15254.000000</td>\n",
       "      <td>6396.333330</td>\n",
       "      <td>26765.833350</td>\n",
       "      <td>25.000000</td>\n",
       "      <td>-0.185280</td>\n",
       "      <td>12.400000</td>\n",
       "      <td>0.000000</td>\n",
       "      <td>0.000000</td>\n",
       "      <td>9.000000</td>\n",
       "      <td>1.000000</td>\n",
       "      <td>0.000000</td>\n",
       "    </tr>\n",
       "    <tr>\n",
       "      <th>75%</th>\n",
       "      <td>1.000000</td>\n",
       "      <td>22799.000000</td>\n",
       "      <td>12250.499975</td>\n",
       "      <td>50061.416675</td>\n",
       "      <td>32.000000</td>\n",
       "      <td>0.121823</td>\n",
       "      <td>19.300000</td>\n",
       "      <td>0.000000</td>\n",
       "      <td>0.000000</td>\n",
       "      <td>17.000000</td>\n",
       "      <td>1.000000</td>\n",
       "      <td>0.000000</td>\n",
       "    </tr>\n",
       "    <tr>\n",
       "      <th>max</th>\n",
       "      <td>1.000000</td>\n",
       "      <td>325127.000000</td>\n",
       "      <td>181786.000000</td>\n",
       "      <td>374457.667000</td>\n",
       "      <td>40.000000</td>\n",
       "      <td>210.100000</td>\n",
       "      <td>126.000000</td>\n",
       "      <td>11.000000</td>\n",
       "      <td>368.000000</td>\n",
       "      <td>39.000000</td>\n",
       "      <td>3.000000</td>\n",
       "      <td>297.500000</td>\n",
       "    </tr>\n",
       "  </tbody>\n",
       "</table>\n",
       "</div>"
      ],
      "text/plain": [
       "       Target_Code  Current_Bill_Amt      Avg_Calls  Avg_Calls_Weekdays  \\\n",
       "count  4708.000000       4708.000000    4708.000000         4708.000000   \n",
       "mean      0.485769      19828.815845    9269.690314        38127.994973   \n",
       "std       0.499851      17204.510108   10437.339850        39172.244943   \n",
       "min       0.000000       -690.000000       0.000000            0.000000   \n",
       "25%       0.000000      12288.000000    2602.250002        13031.250025   \n",
       "50%       0.000000      15254.000000    6396.333330        26765.833350   \n",
       "75%       1.000000      22799.000000   12250.499975        50061.416675   \n",
       "max       1.000000     325127.000000  181786.000000       374457.667000   \n",
       "\n",
       "       Account_Age  Percent_Increase_MOM  Avg_Days_Delinquent  \\\n",
       "count  4708.000000           4708.000000          4708.000000   \n",
       "mean     26.079652             -0.005127            13.968564   \n",
       "std       7.149933              4.481852            10.789062   \n",
       "min      15.000000             -1.000000             0.000000   \n",
       "25%      20.000000             -0.574084             6.000000   \n",
       "50%      25.000000             -0.185280            12.400000   \n",
       "75%      32.000000              0.121823            19.300000   \n",
       "max      40.000000            210.100000           126.000000   \n",
       "\n",
       "       Current_TechSupComplaints  Current_Days_OpenWorkOrders  Equipment_Age  \\\n",
       "count                4708.000000                  4708.000000    4708.000000   \n",
       "mean                    0.414826                     2.438828      10.811810   \n",
       "std                     0.954549                    20.197292       8.710548   \n",
       "min                     0.000000                     0.000000       0.000000   \n",
       "25%                     0.000000                     0.000000       4.000000   \n",
       "50%                     0.000000                     0.000000       9.000000   \n",
       "75%                     0.000000                     0.000000      17.000000   \n",
       "max                    11.000000                   368.000000      39.000000   \n",
       "\n",
       "       Condition_of_Current_Handset  Avg_Hours_WorkOrderOpenned  \n",
       "count                   4264.000000                 4708.000000  \n",
       "mean                       1.019231                    0.936501  \n",
       "std                        0.144021                    8.926752  \n",
       "min                        1.000000                    0.000000  \n",
       "25%                        1.000000                    0.000000  \n",
       "50%                        1.000000                    0.000000  \n",
       "75%                        1.000000                    0.000000  \n",
       "max                        3.000000                  297.500000  "
      ]
     },
     "execution_count": 9,
     "metadata": {},
     "output_type": "execute_result"
    }
   ],
   "source": [
    "data.describe()"
   ]
  },
  {
   "cell_type": "code",
   "execution_count": 10,
   "metadata": {},
   "outputs": [
    {
     "data": {
      "text/html": [
       "<div>\n",
       "<style scoped>\n",
       "    .dataframe tbody tr th:only-of-type {\n",
       "        vertical-align: middle;\n",
       "    }\n",
       "\n",
       "    .dataframe tbody tr th {\n",
       "        vertical-align: top;\n",
       "    }\n",
       "\n",
       "    .dataframe thead th {\n",
       "        text-align: right;\n",
       "    }\n",
       "</style>\n",
       "<table border=\"1\" class=\"dataframe\">\n",
       "  <thead>\n",
       "    <tr style=\"text-align: right;\">\n",
       "      <th></th>\n",
       "      <th>Target_Churn</th>\n",
       "      <th>Acct_Plan_Subtype</th>\n",
       "      <th>Complaint_Code</th>\n",
       "    </tr>\n",
       "  </thead>\n",
       "  <tbody>\n",
       "    <tr>\n",
       "      <th>count</th>\n",
       "      <td>4708</td>\n",
       "      <td>4708</td>\n",
       "      <td>4701</td>\n",
       "    </tr>\n",
       "    <tr>\n",
       "      <th>unique</th>\n",
       "      <td>2</td>\n",
       "      <td>2</td>\n",
       "      <td>6</td>\n",
       "    </tr>\n",
       "    <tr>\n",
       "      <th>top</th>\n",
       "      <td>No Churn</td>\n",
       "      <td>Silver</td>\n",
       "      <td>Billing Problem</td>\n",
       "    </tr>\n",
       "    <tr>\n",
       "      <th>freq</th>\n",
       "      <td>2421</td>\n",
       "      <td>3914</td>\n",
       "      <td>2908</td>\n",
       "    </tr>\n",
       "  </tbody>\n",
       "</table>\n",
       "</div>"
      ],
      "text/plain": [
       "       Target_Churn Acct_Plan_Subtype   Complaint_Code\n",
       "count          4708              4708             4701\n",
       "unique            2                 2                6\n",
       "top        No Churn            Silver  Billing Problem\n",
       "freq           2421              3914             2908"
      ]
     },
     "execution_count": 10,
     "metadata": {},
     "output_type": "execute_result"
    }
   ],
   "source": [
    "data.describe(include='object')"
   ]
  },
  {
   "cell_type": "code",
   "execution_count": 11,
   "metadata": {},
   "outputs": [],
   "source": [
    "data['Target_Code']=data.Target_Code.astype('object') \n",
    "data['Condition_of_Current_Handset']=\\\n",
    "data.Condition_of_Current_Handset.astype('object') \n",
    "data['Current_TechSupComplaints']=\\\n",
    "data.Current_TechSupComplaints.astype('object') \n",
    "data['Target_Code']=data.Target_Code.astype('int64') "
   ]
  },
  {
   "cell_type": "code",
   "execution_count": 12,
   "metadata": {},
   "outputs": [
    {
     "data": {
      "text/html": [
       "<div>\n",
       "<style scoped>\n",
       "    .dataframe tbody tr th:only-of-type {\n",
       "        vertical-align: middle;\n",
       "    }\n",
       "\n",
       "    .dataframe tbody tr th {\n",
       "        vertical-align: top;\n",
       "    }\n",
       "\n",
       "    .dataframe thead th {\n",
       "        text-align: right;\n",
       "    }\n",
       "</style>\n",
       "<table border=\"1\" class=\"dataframe\">\n",
       "  <thead>\n",
       "    <tr style=\"text-align: right;\">\n",
       "      <th></th>\n",
       "      <th>Target_Churn</th>\n",
       "      <th>Acct_Plan_Subtype</th>\n",
       "      <th>Complaint_Code</th>\n",
       "      <th>Current_TechSupComplaints</th>\n",
       "      <th>Condition_of_Current_Handset</th>\n",
       "    </tr>\n",
       "  </thead>\n",
       "  <tbody>\n",
       "    <tr>\n",
       "      <th>count</th>\n",
       "      <td>4708</td>\n",
       "      <td>4708</td>\n",
       "      <td>4701</td>\n",
       "      <td>4708</td>\n",
       "      <td>4264.0</td>\n",
       "    </tr>\n",
       "    <tr>\n",
       "      <th>unique</th>\n",
       "      <td>2</td>\n",
       "      <td>2</td>\n",
       "      <td>6</td>\n",
       "      <td>11</td>\n",
       "      <td>3.0</td>\n",
       "    </tr>\n",
       "    <tr>\n",
       "      <th>top</th>\n",
       "      <td>No Churn</td>\n",
       "      <td>Silver</td>\n",
       "      <td>Billing Problem</td>\n",
       "      <td>0</td>\n",
       "      <td>1.0</td>\n",
       "    </tr>\n",
       "    <tr>\n",
       "      <th>freq</th>\n",
       "      <td>2421</td>\n",
       "      <td>3914</td>\n",
       "      <td>2908</td>\n",
       "      <td>3589</td>\n",
       "      <td>4186.0</td>\n",
       "    </tr>\n",
       "  </tbody>\n",
       "</table>\n",
       "</div>"
      ],
      "text/plain": [
       "       Target_Churn Acct_Plan_Subtype   Complaint_Code  \\\n",
       "count          4708              4708             4701   \n",
       "unique            2                 2                6   \n",
       "top        No Churn            Silver  Billing Problem   \n",
       "freq           2421              3914             2908   \n",
       "\n",
       "        Current_TechSupComplaints  Condition_of_Current_Handset  \n",
       "count                        4708                        4264.0  \n",
       "unique                         11                           3.0  \n",
       "top                             0                           1.0  \n",
       "freq                         3589                        4186.0  "
      ]
     },
     "execution_count": 12,
     "metadata": {},
     "output_type": "execute_result"
    }
   ],
   "source": [
    "data.describe(include='object')"
   ]
  },
  {
   "cell_type": "code",
   "execution_count": 13,
   "metadata": {
    "scrolled": true
   },
   "outputs": [
    {
     "data": {
      "text/plain": [
       "Target_Churn                    0.00\n",
       "Target_Code                     0.00\n",
       "Current_Bill_Amt                0.00\n",
       "Avg_Calls                       0.00\n",
       "Avg_Calls_Weekdays              0.00\n",
       "Account_Age                     0.00\n",
       "Percent_Increase_MOM            0.00\n",
       "Acct_Plan_Subtype               0.00\n",
       "Complaint_Code                  0.15\n",
       "Avg_Days_Delinquent             0.00\n",
       "Current_TechSupComplaints       0.00\n",
       "Current_Days_OpenWorkOrders     0.00\n",
       "Equipment_Age                   0.00\n",
       "Condition_of_Current_Handset    9.43\n",
       "Avg_Hours_WorkOrderOpenned      0.00\n",
       "dtype: float64"
      ]
     },
     "execution_count": 13,
     "metadata": {},
     "output_type": "execute_result"
    }
   ],
   "source": [
    "## Percentage of missing Values present\n",
    "\n",
    "round(data.isnull().sum()/len(data)*100,2)"
   ]
  },
  {
   "cell_type": "code",
   "execution_count": 14,
   "metadata": {},
   "outputs": [
    {
     "data": {
      "text/plain": [
       "Billing Problem         2908\n",
       "Call Quality            1070\n",
       "Moving                   511\n",
       "Check Account            195\n",
       "Inaccurate Sales Inf      13\n",
       "Pricing                    4\n",
       "Name: Complaint_Code, dtype: int64"
      ]
     },
     "execution_count": 14,
     "metadata": {},
     "output_type": "execute_result"
    }
   ],
   "source": [
    "data.Complaint_Code.value_counts()"
   ]
  },
  {
   "cell_type": "code",
   "execution_count": 15,
   "metadata": {},
   "outputs": [
    {
     "data": {
      "text/plain": [
       "1.0    4186\n",
       "2.0      74\n",
       "3.0       4\n",
       "Name: Condition_of_Current_Handset, dtype: int64"
      ]
     },
     "execution_count": 15,
     "metadata": {},
     "output_type": "execute_result"
    }
   ],
   "source": [
    "data.Condition_of_Current_Handset.value_counts()"
   ]
  },
  {
   "cell_type": "code",
   "execution_count": 16,
   "metadata": {},
   "outputs": [],
   "source": [
    "data['Complaint_Code']=data['Complaint_Code']\\\n",
    ".fillna(value='Billing Problem') \n",
    "data['Condition_of_Current_Handset']=\\\n",
    "data['Condition_of_Current_Handset'].fillna(value=1) \n",
    "data['Condition_of_Current_Handset']=\\\n",
    "data.Condition_of_Current_Handset.astype('object') "
   ]
  },
  {
   "cell_type": "code",
   "execution_count": 17,
   "metadata": {},
   "outputs": [
    {
     "data": {
      "text/plain": [
       "No Churn    2421\n",
       "Churn       2287\n",
       "Name: Target_Churn, dtype: int64"
      ]
     },
     "execution_count": 17,
     "metadata": {},
     "output_type": "execute_result"
    }
   ],
   "source": [
    "data['Target_Churn'].value_counts(0)"
   ]
  },
  {
   "cell_type": "code",
   "execution_count": 18,
   "metadata": {},
   "outputs": [
    {
     "data": {
      "text/plain": [
       "No Churn    51.42311\n",
       "Churn       48.57689\n",
       "Name: Target_Churn, dtype: float64"
      ]
     },
     "execution_count": 18,
     "metadata": {},
     "output_type": "execute_result"
    }
   ],
   "source": [
    "data['Target_Churn'].value_counts(1)*100"
   ]
  },
  {
   "cell_type": "code",
   "execution_count": 19,
   "metadata": {},
   "outputs": [
    {
     "data": {
      "text/html": [
       "<div>\n",
       "<style scoped>\n",
       "    .dataframe tbody tr th:only-of-type {\n",
       "        vertical-align: middle;\n",
       "    }\n",
       "\n",
       "    .dataframe tbody tr th {\n",
       "        vertical-align: top;\n",
       "    }\n",
       "\n",
       "    .dataframe thead th {\n",
       "        text-align: right;\n",
       "    }\n",
       "</style>\n",
       "<table border=\"1\" class=\"dataframe\">\n",
       "  <thead>\n",
       "    <tr style=\"text-align: right;\">\n",
       "      <th></th>\n",
       "      <th>Target_Code</th>\n",
       "      <th>Current_Bill_Amt</th>\n",
       "      <th>Avg_Calls</th>\n",
       "      <th>Avg_Calls_Weekdays</th>\n",
       "      <th>Account_Age</th>\n",
       "      <th>Percent_Increase_MOM</th>\n",
       "      <th>Avg_Days_Delinquent</th>\n",
       "      <th>Current_Days_OpenWorkOrders</th>\n",
       "      <th>Equipment_Age</th>\n",
       "      <th>Avg_Hours_WorkOrderOpenned</th>\n",
       "    </tr>\n",
       "    <tr>\n",
       "      <th>Target_Churn</th>\n",
       "      <th></th>\n",
       "      <th></th>\n",
       "      <th></th>\n",
       "      <th></th>\n",
       "      <th></th>\n",
       "      <th></th>\n",
       "      <th></th>\n",
       "      <th></th>\n",
       "      <th></th>\n",
       "      <th></th>\n",
       "    </tr>\n",
       "  </thead>\n",
       "  <tbody>\n",
       "    <tr>\n",
       "      <th>Churn</th>\n",
       "      <td>1.0</td>\n",
       "      <td>20182.709226</td>\n",
       "      <td>9348.878298</td>\n",
       "      <td>37524.030899</td>\n",
       "      <td>25.418452</td>\n",
       "      <td>-0.281309</td>\n",
       "      <td>19.075339</td>\n",
       "      <td>2.498907</td>\n",
       "      <td>11.191517</td>\n",
       "      <td>0.960482</td>\n",
       "    </tr>\n",
       "    <tr>\n",
       "      <th>No Churn</th>\n",
       "      <td>0.0</td>\n",
       "      <td>19494.510120</td>\n",
       "      <td>9194.885309</td>\n",
       "      <td>38698.530221</td>\n",
       "      <td>26.704254</td>\n",
       "      <td>0.255769</td>\n",
       "      <td>9.144444</td>\n",
       "      <td>2.382074</td>\n",
       "      <td>10.453119</td>\n",
       "      <td>0.913846</td>\n",
       "    </tr>\n",
       "  </tbody>\n",
       "</table>\n",
       "</div>"
      ],
      "text/plain": [
       "              Target_Code  Current_Bill_Amt    Avg_Calls  Avg_Calls_Weekdays  \\\n",
       "Target_Churn                                                                   \n",
       "Churn                 1.0      20182.709226  9348.878298        37524.030899   \n",
       "No Churn              0.0      19494.510120  9194.885309        38698.530221   \n",
       "\n",
       "              Account_Age  Percent_Increase_MOM  Avg_Days_Delinquent  \\\n",
       "Target_Churn                                                           \n",
       "Churn           25.418452             -0.281309            19.075339   \n",
       "No Churn        26.704254              0.255769             9.144444   \n",
       "\n",
       "              Current_Days_OpenWorkOrders  Equipment_Age  \\\n",
       "Target_Churn                                               \n",
       "Churn                            2.498907      11.191517   \n",
       "No Churn                         2.382074      10.453119   \n",
       "\n",
       "              Avg_Hours_WorkOrderOpenned  \n",
       "Target_Churn                              \n",
       "Churn                           0.960482  \n",
       "No Churn                        0.913846  "
      ]
     },
     "execution_count": 19,
     "metadata": {},
     "output_type": "execute_result"
    }
   ],
   "source": [
    "summary_churn = data.groupby('Target_Churn')\n",
    "summary_churn.mean()"
   ]
  },
  {
   "cell_type": "code",
   "execution_count": 20,
   "metadata": {
    "scrolled": false
   },
   "outputs": [
    {
     "data": {
      "text/html": [
       "<div>\n",
       "<style scoped>\n",
       "    .dataframe tbody tr th:only-of-type {\n",
       "        vertical-align: middle;\n",
       "    }\n",
       "\n",
       "    .dataframe tbody tr th {\n",
       "        vertical-align: top;\n",
       "    }\n",
       "\n",
       "    .dataframe thead th {\n",
       "        text-align: right;\n",
       "    }\n",
       "</style>\n",
       "<table border=\"1\" class=\"dataframe\">\n",
       "  <thead>\n",
       "    <tr style=\"text-align: right;\">\n",
       "      <th></th>\n",
       "      <th>Target_Code</th>\n",
       "      <th>Current_Bill_Amt</th>\n",
       "      <th>Avg_Calls</th>\n",
       "      <th>Avg_Calls_Weekdays</th>\n",
       "      <th>Account_Age</th>\n",
       "      <th>Percent_Increase_MOM</th>\n",
       "      <th>Avg_Days_Delinquent</th>\n",
       "      <th>Current_Days_OpenWorkOrders</th>\n",
       "      <th>Equipment_Age</th>\n",
       "      <th>Avg_Hours_WorkOrderOpenned</th>\n",
       "    </tr>\n",
       "  </thead>\n",
       "  <tbody>\n",
       "    <tr>\n",
       "      <th>Target_Code</th>\n",
       "      <td>1.000000</td>\n",
       "      <td>0.019995</td>\n",
       "      <td>0.007375</td>\n",
       "      <td>-0.014987</td>\n",
       "      <td>-0.089890</td>\n",
       "      <td>-0.059899</td>\n",
       "      <td>0.460092</td>\n",
       "      <td>0.002891</td>\n",
       "      <td>0.042373</td>\n",
       "      <td>0.002611</td>\n",
       "    </tr>\n",
       "    <tr>\n",
       "      <th>Current_Bill_Amt</th>\n",
       "      <td>0.019995</td>\n",
       "      <td>1.000000</td>\n",
       "      <td>0.352535</td>\n",
       "      <td>0.428040</td>\n",
       "      <td>0.003292</td>\n",
       "      <td>-0.015588</td>\n",
       "      <td>0.024285</td>\n",
       "      <td>0.076418</td>\n",
       "      <td>-0.040732</td>\n",
       "      <td>0.016852</td>\n",
       "    </tr>\n",
       "    <tr>\n",
       "      <th>Avg_Calls</th>\n",
       "      <td>0.007375</td>\n",
       "      <td>0.352535</td>\n",
       "      <td>1.000000</td>\n",
       "      <td>0.727226</td>\n",
       "      <td>-0.023758</td>\n",
       "      <td>-0.040899</td>\n",
       "      <td>0.019407</td>\n",
       "      <td>0.078428</td>\n",
       "      <td>-0.099348</td>\n",
       "      <td>0.013441</td>\n",
       "    </tr>\n",
       "    <tr>\n",
       "      <th>Avg_Calls_Weekdays</th>\n",
       "      <td>-0.014987</td>\n",
       "      <td>0.428040</td>\n",
       "      <td>0.727226</td>\n",
       "      <td>1.000000</td>\n",
       "      <td>0.029957</td>\n",
       "      <td>-0.044496</td>\n",
       "      <td>0.017134</td>\n",
       "      <td>0.065318</td>\n",
       "      <td>-0.103769</td>\n",
       "      <td>0.013577</td>\n",
       "    </tr>\n",
       "    <tr>\n",
       "      <th>Account_Age</th>\n",
       "      <td>-0.089890</td>\n",
       "      <td>0.003292</td>\n",
       "      <td>-0.023758</td>\n",
       "      <td>0.029957</td>\n",
       "      <td>1.000000</td>\n",
       "      <td>-0.004022</td>\n",
       "      <td>-0.047542</td>\n",
       "      <td>-0.026270</td>\n",
       "      <td>0.073503</td>\n",
       "      <td>0.005059</td>\n",
       "    </tr>\n",
       "    <tr>\n",
       "      <th>Percent_Increase_MOM</th>\n",
       "      <td>-0.059899</td>\n",
       "      <td>-0.015588</td>\n",
       "      <td>-0.040899</td>\n",
       "      <td>-0.044496</td>\n",
       "      <td>-0.004022</td>\n",
       "      <td>1.000000</td>\n",
       "      <td>0.049768</td>\n",
       "      <td>-0.003013</td>\n",
       "      <td>-0.003819</td>\n",
       "      <td>-0.008848</td>\n",
       "    </tr>\n",
       "    <tr>\n",
       "      <th>Avg_Days_Delinquent</th>\n",
       "      <td>0.460092</td>\n",
       "      <td>0.024285</td>\n",
       "      <td>0.019407</td>\n",
       "      <td>0.017134</td>\n",
       "      <td>-0.047542</td>\n",
       "      <td>0.049768</td>\n",
       "      <td>1.000000</td>\n",
       "      <td>-0.001686</td>\n",
       "      <td>0.014047</td>\n",
       "      <td>0.000168</td>\n",
       "    </tr>\n",
       "    <tr>\n",
       "      <th>Current_Days_OpenWorkOrders</th>\n",
       "      <td>0.002891</td>\n",
       "      <td>0.076418</td>\n",
       "      <td>0.078428</td>\n",
       "      <td>0.065318</td>\n",
       "      <td>-0.026270</td>\n",
       "      <td>-0.003013</td>\n",
       "      <td>-0.001686</td>\n",
       "      <td>1.000000</td>\n",
       "      <td>-0.037599</td>\n",
       "      <td>0.029384</td>\n",
       "    </tr>\n",
       "    <tr>\n",
       "      <th>Equipment_Age</th>\n",
       "      <td>0.042373</td>\n",
       "      <td>-0.040732</td>\n",
       "      <td>-0.099348</td>\n",
       "      <td>-0.103769</td>\n",
       "      <td>0.073503</td>\n",
       "      <td>-0.003819</td>\n",
       "      <td>0.014047</td>\n",
       "      <td>-0.037599</td>\n",
       "      <td>1.000000</td>\n",
       "      <td>-0.014347</td>\n",
       "    </tr>\n",
       "    <tr>\n",
       "      <th>Avg_Hours_WorkOrderOpenned</th>\n",
       "      <td>0.002611</td>\n",
       "      <td>0.016852</td>\n",
       "      <td>0.013441</td>\n",
       "      <td>0.013577</td>\n",
       "      <td>0.005059</td>\n",
       "      <td>-0.008848</td>\n",
       "      <td>0.000168</td>\n",
       "      <td>0.029384</td>\n",
       "      <td>-0.014347</td>\n",
       "      <td>1.000000</td>\n",
       "    </tr>\n",
       "  </tbody>\n",
       "</table>\n",
       "</div>"
      ],
      "text/plain": [
       "                             Target_Code  Current_Bill_Amt  Avg_Calls  \\\n",
       "Target_Code                     1.000000          0.019995   0.007375   \n",
       "Current_Bill_Amt                0.019995          1.000000   0.352535   \n",
       "Avg_Calls                       0.007375          0.352535   1.000000   \n",
       "Avg_Calls_Weekdays             -0.014987          0.428040   0.727226   \n",
       "Account_Age                    -0.089890          0.003292  -0.023758   \n",
       "Percent_Increase_MOM           -0.059899         -0.015588  -0.040899   \n",
       "Avg_Days_Delinquent             0.460092          0.024285   0.019407   \n",
       "Current_Days_OpenWorkOrders     0.002891          0.076418   0.078428   \n",
       "Equipment_Age                   0.042373         -0.040732  -0.099348   \n",
       "Avg_Hours_WorkOrderOpenned      0.002611          0.016852   0.013441   \n",
       "\n",
       "                             Avg_Calls_Weekdays  Account_Age  \\\n",
       "Target_Code                           -0.014987    -0.089890   \n",
       "Current_Bill_Amt                       0.428040     0.003292   \n",
       "Avg_Calls                              0.727226    -0.023758   \n",
       "Avg_Calls_Weekdays                     1.000000     0.029957   \n",
       "Account_Age                            0.029957     1.000000   \n",
       "Percent_Increase_MOM                  -0.044496    -0.004022   \n",
       "Avg_Days_Delinquent                    0.017134    -0.047542   \n",
       "Current_Days_OpenWorkOrders            0.065318    -0.026270   \n",
       "Equipment_Age                         -0.103769     0.073503   \n",
       "Avg_Hours_WorkOrderOpenned             0.013577     0.005059   \n",
       "\n",
       "                             Percent_Increase_MOM  Avg_Days_Delinquent  \\\n",
       "Target_Code                             -0.059899             0.460092   \n",
       "Current_Bill_Amt                        -0.015588             0.024285   \n",
       "Avg_Calls                               -0.040899             0.019407   \n",
       "Avg_Calls_Weekdays                      -0.044496             0.017134   \n",
       "Account_Age                             -0.004022            -0.047542   \n",
       "Percent_Increase_MOM                     1.000000             0.049768   \n",
       "Avg_Days_Delinquent                      0.049768             1.000000   \n",
       "Current_Days_OpenWorkOrders             -0.003013            -0.001686   \n",
       "Equipment_Age                           -0.003819             0.014047   \n",
       "Avg_Hours_WorkOrderOpenned              -0.008848             0.000168   \n",
       "\n",
       "                             Current_Days_OpenWorkOrders  Equipment_Age  \\\n",
       "Target_Code                                     0.002891       0.042373   \n",
       "Current_Bill_Amt                                0.076418      -0.040732   \n",
       "Avg_Calls                                       0.078428      -0.099348   \n",
       "Avg_Calls_Weekdays                              0.065318      -0.103769   \n",
       "Account_Age                                    -0.026270       0.073503   \n",
       "Percent_Increase_MOM                           -0.003013      -0.003819   \n",
       "Avg_Days_Delinquent                            -0.001686       0.014047   \n",
       "Current_Days_OpenWorkOrders                     1.000000      -0.037599   \n",
       "Equipment_Age                                  -0.037599       1.000000   \n",
       "Avg_Hours_WorkOrderOpenned                      0.029384      -0.014347   \n",
       "\n",
       "                             Avg_Hours_WorkOrderOpenned  \n",
       "Target_Code                                    0.002611  \n",
       "Current_Bill_Amt                               0.016852  \n",
       "Avg_Calls                                      0.013441  \n",
       "Avg_Calls_Weekdays                             0.013577  \n",
       "Account_Age                                    0.005059  \n",
       "Percent_Increase_MOM                          -0.008848  \n",
       "Avg_Days_Delinquent                            0.000168  \n",
       "Current_Days_OpenWorkOrders                    0.029384  \n",
       "Equipment_Age                                 -0.014347  \n",
       "Avg_Hours_WorkOrderOpenned                     1.000000  "
      ]
     },
     "execution_count": 20,
     "metadata": {},
     "output_type": "execute_result"
    },
    {
     "data": {
      "image/png": "[encoded data removed]",
      "text/plain": [
       "<Figure size 1080x576 with 2 Axes>"
      ]
     },
     "metadata": {
      "needs_background": "light"
     },
     "output_type": "display_data"
    }
   ],
   "source": [
    "corr = data.corr() \n",
    "plt.figure(figsize=(15,8)) \n",
    "sns.heatmap(corr, \\\n",
    "            xticklabels=corr.columns.values, \\\n",
    "            yticklabels=corr.columns.values,annot=True,cmap='Greys_r') \n",
    "corr "
   ]
  },
  {
   "cell_type": "markdown",
   "metadata": {},
   "source": [
    "### Univariate Analysis"
   ]
  },
  {
   "cell_type": "code",
   "execution_count": 21,
   "metadata": {
    "scrolled": false
   },
   "outputs": [
    {
     "data": {
      "text/plain": [
       "Text(0, 0.5, 'No of Customers')"
      ]
     },
     "execution_count": 21,
     "metadata": {},
     "output_type": "execute_result"
    },
    {
     "data": {
      "image/png": "[encoded data removed]",
      "text/plain": [
       "<Figure size 1080x432 with 3 Axes>"
      ]
     },
     "metadata": {
      "needs_background": "light"
     },
     "output_type": "display_data"
    }
   ],
   "source": [
    "f, axes = plt.subplots(ncols=3, figsize=(15, 6)) \n",
    "sns.distplot(data.Avg_Calls_Weekdays, kde=True, \\\n",
    "             color=\"gray\", \\\n",
    "             ax=axes[0]).set_title('Avg_Calls_Weekdays') \n",
    "axes[0].set_ylabel('No of Customers') \n",
    "sns.distplot(data.Avg_Calls, kde=True, color=\"gray\", \\\n",
    "             ax=axes[1]).set_title('Avg_Calls') \n",
    "axes[1].set_ylabel('No of Customers') \n",
    "sns.distplot(data.Current_Bill_Amt, kde=True, color=\"gray\", \\\n",
    "             ax=axes[2]).set_title('Current_Bill_Amt') \n",
    "axes[2].set_ylabel('No of Customers') "
   ]
  },
  {
   "cell_type": "markdown",
   "metadata": {},
   "source": [
    "### Bivariate Analysis"
   ]
  },
  {
   "cell_type": "code",
   "execution_count": 22,
   "metadata": {},
   "outputs": [
    {
     "data": {
      "text/plain": [
       "Text(0.5, 1.0, 'Customer Complaint Code Distribution')"
      ]
     },
     "execution_count": 22,
     "metadata": {},
     "output_type": "execute_result"
    },
    {
     "data": {
      "image/png": "[encoded data removed]",
      "text/plain": [
       "<Figure size 1224x720 with 1 Axes>"
      ]
     },
     "metadata": {
      "needs_background": "light"
     },
     "output_type": "display_data"
    }
   ],
   "source": [
    "plt.figure(figsize=(17,10)) \n",
    "p=sns.countplot(y=\"Complaint_Code\", hue='Target_Churn', \\\n",
    "                data=data,palette=\"Greys_r\") \n",
    "legend = p.get_legend() \n",
    "legend_txt = legend.texts \n",
    "legend_txt[0].set_text(\"No Churn\") \n",
    "legend_txt[1].set_text(\"Churn\") \n",
    "p.set_title('Customer Complaint Code Distribution') "
   ]
  },
  {
   "cell_type": "code",
   "execution_count": 23,
   "metadata": {},
   "outputs": [
    {
     "data": {
      "text/plain": [
       "Text(0.5, 1.0, 'Customer Acct_Plan_Subtype Distribution')"
      ]
     },
     "execution_count": 23,
     "metadata": {},
     "output_type": "execute_result"
    },
    {
     "data": {
      "image/png": "[encoded data removed]",
      "text/plain": [
       "<Figure size 1080x288 with 1 Axes>"
      ]
     },
     "metadata": {
      "needs_background": "light"
     },
     "output_type": "display_data"
    }
   ],
   "source": [
    "plt.figure(figsize=(15,4)) \n",
    "p=sns.countplot(y=\"Acct_Plan_Subtype\", hue='Target_Churn', \\\n",
    "                data=data,palette=\"Greys_r\") \n",
    "legend = p.get_legend() \n",
    "legend_txt = legend.texts \n",
    "legend_txt[0].set_text(\"No Churn\") \n",
    "legend_txt[1].set_text(\"Churn\") \n",
    "p.set_title('Customer Acct_Plan_Subtype Distribution') "
   ]
  },
  {
   "cell_type": "code",
   "execution_count": 24,
   "metadata": {},
   "outputs": [
    {
     "data": {
      "text/plain": [
       "Text(0.5, 1.0, 'Customer Current_TechSupComplaints Distribution')"
      ]
     },
     "execution_count": 24,
     "metadata": {},
     "output_type": "execute_result"
    },
    {
     "data": {
      "image/png": "[encoded data removed]",
      "text/plain": [
       "<Figure size 1080x288 with 1 Axes>"
      ]
     },
     "metadata": {
      "needs_background": "light"
     },
     "output_type": "display_data"
    }
   ],
   "source": [
    "plt.figure(figsize=(15,4)) \n",
    "p=sns.countplot(y=\"Current_TechSupComplaints\", hue='Target_Churn', \\\n",
    "                data=data,palette=\"Greys_r\") \n",
    "legend = p.get_legend() \n",
    "legend_txt = legend.texts \n",
    "legend_txt[0].set_text(\"No Churn\") \n",
    "legend_txt[1].set_text(\"Churn\") \n",
    "p.set_title('Customer Current_TechSupComplaints Distribution') "
   ]
  },
  {
   "cell_type": "code",
   "execution_count": 25,
   "metadata": {
    "scrolled": true
   },
   "outputs": [
    {
     "data": {
      "text/plain": [
       "Text(0.5, 1.0, 'Average No of Days Deliquent/Defalulted from paying - churn vs no churn')"
      ]
     },
     "execution_count": 25,
     "metadata": {},
     "output_type": "execute_result"
    },
    {
     "data": {
      "image/png": "[encoded data removed]",
      "text/plain": [
       "<Figure size 1080x288 with 1 Axes>"
      ]
     },
     "metadata": {
      "needs_background": "light"
     },
     "output_type": "display_data"
    }
   ],
   "source": [
    "plt.figure(figsize=(15,4)) \n",
    "ax=sns.kdeplot(data.loc[(data['Target_Code'] == 0), \\\n",
    "                        'Avg_Days_Delinquent'] , \\\n",
    "               color=sns.color_palette(\"Greys_r\")[0],\\\n",
    "               shade=True,label='no churn') \n",
    "ax=sns.kdeplot(data.loc[(data['Target_Code'] == 1),\\\n",
    "                        'Avg_Days_Delinquent'] , \\\n",
    "               color=sns.color_palette(\"Greys_r\")[1],\\\n",
    "               shade=True, label='churn') \n",
    "ax.set(xlabel='Average No of Days Deliquent/Defalulted \\\n",
    "from paying', ylabel='Frequency') \n",
    "plt.title('Average No of Days Deliquent/Defalulted from \\\n",
    "paying - churn vs no churn')"
   ]
  },
  {
   "cell_type": "code",
   "execution_count": 26,
   "metadata": {},
   "outputs": [
    {
     "data": {
      "text/plain": [
       "Text(0.5, 1.0, 'Account_Age - churn vs no churn')"
      ]
     },
     "execution_count": 26,
     "metadata": {},
     "output_type": "execute_result"
    },
    {
     "data": {
      "image/png": "[encoded data removed]",
      "text/plain": [
       "<Figure size 1080x288 with 1 Axes>"
      ]
     },
     "metadata": {
      "needs_background": "light"
     },
     "output_type": "display_data"
    }
   ],
   "source": [
    "plt.figure(figsize=(15,4)) \n",
    "ax=sns.kdeplot(data.loc[(data['Target_Code'] == 0), \\\n",
    "                        'Account_Age'], \\\n",
    "               color=sns.color_palette(\"Greys_r\")[0], \\\n",
    "               shade=True,label='no churn') \n",
    "ax=sns.kdeplot(data.loc[(data['Target_Code'] == 1), \\\n",
    "                        'Account_Age'], \\\n",
    "               color=sns.color_palette(\"Greys_r\")[1] ,\\\n",
    "               shade=True, label='churn') \n",
    "ax.set(xlabel='Account_Age', ylabel='Frequency') \n",
    "plt.title('Account_Age - churn vs no churn') "
   ]
  },
  {
   "cell_type": "code",
   "execution_count": 27,
   "metadata": {},
   "outputs": [
    {
     "data": {
      "text/plain": [
       "Text(0.5, 1.0, 'Percent_Increase_MOM- churn vs no churn')"
      ]
     },
     "execution_count": 27,
     "metadata": {},
     "output_type": "execute_result"
    },
    {
     "data": {
      "image/png": "[encoded data removed]",
      "text/plain": [
       "<Figure size 1080x288 with 1 Axes>"
      ]
     },
     "metadata": {
      "needs_background": "light"
     },
     "output_type": "display_data"
    }
   ],
   "source": [
    "plt.figure(figsize=(15,4)) \n",
    "ax=sns.kdeplot(data.loc[(data['Target_Code'] == 0), \\\n",
    "                        'Percent_Increase_MOM'], \\\n",
    "               color=sns.color_palette(\"Greys_r\")[0], \\\n",
    "               shade=True, label='no churn') \n",
    "ax=sns.kdeplot(data.loc[(data['Target_Code'] == 1), \\\n",
    "                        'Percent_Increase_MOM'], \\\n",
    "               color=sns.color_palette(\"Greys_r\")[1], \\\n",
    "               shade=True, label='churn') \n",
    "ax.set(xlabel='Percent_Increase_MOM', ylabel='Frequency') \n",
    "plt.title('Percent_Increase_MOM- churn vs no churn')"
   ]
  },
  {
   "cell_type": "markdown",
   "metadata": {},
   "source": [
    "### Feature Selection"
   ]
  },
  {
   "cell_type": "code",
   "execution_count": 28,
   "metadata": {},
   "outputs": [],
   "source": [
    "from sklearn.ensemble import RandomForestClassifier\n",
    "from sklearn.model_selection import train_test_split\n",
    "import numpy as np"
   ]
  },
  {
   "cell_type": "code",
   "execution_count": 29,
   "metadata": {},
   "outputs": [],
   "source": [
    "data[\"Acct_Plan_Subtype\"] = data[\"Acct_Plan_Subtype\"]\\\n",
    ".astype('category').cat.codes \n",
    "data[\"Complaint_Code\"] = data[\"Complaint_Code\"]\\\n",
    ".astype('category').cat.codes "
   ]
  },
  {
   "cell_type": "code",
   "execution_count": 30,
   "metadata": {},
   "outputs": [
    {
     "data": {
      "text/html": [
       "<div>\n",
       "<style scoped>\n",
       "    .dataframe tbody tr th:only-of-type {\n",
       "        vertical-align: middle;\n",
       "    }\n",
       "\n",
       "    .dataframe tbody tr th {\n",
       "        vertical-align: top;\n",
       "    }\n",
       "\n",
       "    .dataframe thead th {\n",
       "        text-align: right;\n",
       "    }\n",
       "</style>\n",
       "<table border=\"1\" class=\"dataframe\">\n",
       "  <thead>\n",
       "    <tr style=\"text-align: right;\">\n",
       "      <th></th>\n",
       "      <th>Acct_Plan_Subtype</th>\n",
       "      <th>Complaint_Code</th>\n",
       "    </tr>\n",
       "  </thead>\n",
       "  <tbody>\n",
       "    <tr>\n",
       "      <th>0</th>\n",
       "      <td>0</td>\n",
       "      <td>0</td>\n",
       "    </tr>\n",
       "    <tr>\n",
       "      <th>1</th>\n",
       "      <td>1</td>\n",
       "      <td>4</td>\n",
       "    </tr>\n",
       "    <tr>\n",
       "      <th>2</th>\n",
       "      <td>0</td>\n",
       "      <td>0</td>\n",
       "    </tr>\n",
       "    <tr>\n",
       "      <th>3</th>\n",
       "      <td>1</td>\n",
       "      <td>0</td>\n",
       "    </tr>\n",
       "    <tr>\n",
       "      <th>4</th>\n",
       "      <td>0</td>\n",
       "      <td>0</td>\n",
       "    </tr>\n",
       "  </tbody>\n",
       "</table>\n",
       "</div>"
      ],
      "text/plain": [
       "   Acct_Plan_Subtype  Complaint_Code\n",
       "0                  0               0\n",
       "1                  1               4\n",
       "2                  0               0\n",
       "3                  1               0\n",
       "4                  0               0"
      ]
     },
     "execution_count": 30,
     "metadata": {},
     "output_type": "execute_result"
    }
   ],
   "source": [
    "data[[\"Acct_Plan_Subtype\",\"Complaint_Code\"]].head()"
   ]
  },
  {
   "cell_type": "code",
   "execution_count": 31,
   "metadata": {},
   "outputs": [],
   "source": [
    "target = 'Target_Code' \n",
    "X = data.drop(['Target_Code','Target_Churn'], axis=1) \n",
    "y = data[target] \n",
    "X_train, X_test, y_train, y_test = train_test_split\\\n",
    "(X, y, test_size=0.15, \\\n",
    " random_state=123, stratify=y)"
   ]
  },
  {
   "cell_type": "code",
   "execution_count": 32,
   "metadata": {
    "scrolled": false
   },
   "outputs": [
    {
     "data": {
      "image/png": "[encoded data removed]",
      "text/plain": [
       "<Figure size 1080x288 with 1 Axes>"
      ]
     },
     "metadata": {
      "needs_background": "light"
     },
     "output_type": "display_data"
    }
   ],
   "source": [
    "forest=RandomForestClassifier(n_estimators=500,random_state=1) \n",
    "forest.fit(X_train,y_train) \n",
    "\n",
    "importances=forest.feature_importances_ \n",
    "features = data.drop(['Target_Code','Target_Churn'],axis=1)\\\n",
    ".columns \n",
    "indices = np.argsort(importances)[::-1] \n",
    "\n",
    "plt.figure(figsize=(15,4)) \n",
    "plt.title(\"Feature importances using Random Forest\") \n",
    "plt.bar(range(X_train.shape[1]), importances[indices],\\\n",
    "        color=\"gray\", align=\"center\") \n",
    "plt.xticks(range(X_train.shape[1]), features[indices], \\\n",
    "           rotation='vertical', fontsize=15) \n",
    "plt.xlim([-1, X_train.shape[1]])\n",
    "plt.show()"
   ]
  },
  {
   "cell_type": "markdown",
   "metadata": {},
   "source": [
    "### Logistic Regression"
   ]
  },
  {
   "cell_type": "code",
   "execution_count": 33,
   "metadata": {},
   "outputs": [
    {
     "name": "stdout",
     "output_type": "stream",
     "text": [
      "Optimization terminated successfully.\n",
      "         Current function value: 0.551146\n",
      "         Iterations 8\n"
     ]
    }
   ],
   "source": [
    "import statsmodels.api as sm \n",
    "top7_features = ['Avg_Days_Delinquent','Percent_Increase_MOM',\\\n",
    "                 'Avg_Calls_Weekdays','Current_Bill_Amt',\\\n",
    "                 'Avg_Calls','Complaint_Code','Account_Age'] \n",
    "logReg = sm.Logit(y_train, X_train[top7_features]) \n",
    "logistic_regression = logReg.fit() "
   ]
  },
  {
   "cell_type": "code",
   "execution_count": 34,
   "metadata": {},
   "outputs": [
    {
     "data": {
      "text/plain": [
       "Avg_Days_Delinquent     1.109226e-01\n",
       "Percent_Increase_MOM   -3.922044e-01\n",
       "Avg_Calls_Weekdays     -3.315366e-06\n",
       "Current_Bill_Amt       -2.385475e-07\n",
       "Avg_Calls              -1.817086e-06\n",
       "Complaint_Code         -2.083688e-01\n",
       "Account_Age            -4.794911e-02\n",
       "dtype: float64"
      ]
     },
     "execution_count": 34,
     "metadata": {},
     "output_type": "execute_result"
    }
   ],
   "source": [
    "logistic_regression.summary\n",
    "logistic_regression.params"
   ]
  },
  {
   "cell_type": "code",
   "execution_count": 35,
   "metadata": {},
   "outputs": [],
   "source": [
    "coef = logistic_regression.params \n",
    "\n",
    "def y (coef, Avg_Days_Delinquent, Percent_Increase_MOM, \\\n",
    "       Avg_Calls_Weekdays, Current_Bill_Amt, Avg_Calls, \\\n",
    "       Complaint_Code, Account_Age): \n",
    "    \n",
    "    final_coef=coef[0]\\\n",
    "    *Avg_Days_Delinquent\\\n",
    "    +coef[1]*Percent_Increase_MOM\\\n",
    "    +coef[2]\\\n",
    "    *Avg_Calls_Weekdays\\\n",
    "    +coef[3]*Current_Bill_Amt\\\n",
    "    +coef[4]*Avg_Calls+coef[5]\\\n",
    "    *Complaint_Code+coef[6]\\\n",
    "    *Account_Age \n",
    "\n",
    "    return final_coef "
   ]
  },
  {
   "cell_type": "code",
   "execution_count": 36,
   "metadata": {},
   "outputs": [
    {
     "data": {
      "text/plain": [
       "0.8193916658925811"
      ]
     },
     "execution_count": 36,
     "metadata": {},
     "output_type": "execute_result"
    }
   ],
   "source": [
    "import numpy as np\n",
    "\n",
    "# An Employee with \n",
    "# Avg_Days_Delinquent    40\n",
    "# Percent_Increase_MOM   5\n",
    "# Avg_Calls_Weekdays     39000\n",
    "# Current_Bill_Amt       12000\n",
    "# Avg_Calls              9000\n",
    "# Complaint_Code         0\n",
    "# Account_Age            17\n",
    "# has 81 % chance of churn\n",
    "\n",
    "y1 = y(coef, 40, 5, 39000,12000,9000,0,17)\n",
    "p = np.exp(y1) / (1+np.exp(y1))\n",
    "p"
   ]
  },
  {
   "cell_type": "markdown",
   "metadata": {},
   "source": [
    "## Activity 8.01"
   ]
  },
  {
   "cell_type": "markdown",
   "metadata": {},
   "source": [
    "### Using Scikit Learn"
   ]
  },
  {
   "cell_type": "markdown",
   "metadata": {},
   "source": [
    "## Logistic Regression"
   ]
  },
  {
   "cell_type": "code",
   "execution_count": 37,
   "metadata": {},
   "outputs": [],
   "source": [
    "from sklearn.linear_model import LogisticRegression"
   ]
  },
  {
   "cell_type": "code",
   "execution_count": 38,
   "metadata": {},
   "outputs": [],
   "source": [
    "clf_logistic = LogisticRegression(random_state=0,solver='lbfgs')\\\n",
    ".fit(X_train[top7_features], y_train) "
   ]
  },
  {
   "cell_type": "code",
   "execution_count": 39,
   "metadata": {},
   "outputs": [
    {
     "data": {
      "text/plain": [
       "LogisticRegression(random_state=0)"
      ]
     },
     "execution_count": 39,
     "metadata": {},
     "output_type": "execute_result"
    }
   ],
   "source": [
    "clf_logistic"
   ]
  },
  {
   "cell_type": "code",
   "execution_count": 40,
   "metadata": {},
   "outputs": [
    {
     "data": {
      "text/plain": [
       "0.7454031117397454"
      ]
     },
     "execution_count": 40,
     "metadata": {},
     "output_type": "execute_result"
    }
   ],
   "source": [
    "clf_logistic.score(X_test[top7_features], y_test)"
   ]
  },
  {
   "cell_type": "markdown",
   "metadata": {},
   "source": [
    "## SVM"
   ]
  },
  {
   "cell_type": "code",
   "execution_count": 42,
   "metadata": {},
   "outputs": [],
   "source": [
    "from sklearn import svm"
   ]
  },
  {
   "cell_type": "code",
   "execution_count": 41,
   "metadata": {},
   "outputs": [],
   "source": [
    "from sklearn.preprocessing import MinMaxScaler\n",
    "scaling = MinMaxScaler(feature_range=(-1,1)).fit(X_train[top7_features])\n",
    "X_train_svm = scaling.transform(X_train[top7_features])\n",
    "X_test_svm = scaling.transform(X_test[top7_features])"
   ]
  },
  {
   "cell_type": "code",
   "execution_count": 43,
   "metadata": {},
   "outputs": [],
   "source": [
    "clf_svm=svm.SVC(kernel='linear', C=1)"
   ]
  },
  {
   "cell_type": "code",
   "execution_count": 44,
   "metadata": {},
   "outputs": [
    {
     "data": {
      "text/plain": [
       "SVC(C=1, kernel='linear')"
      ]
     },
     "execution_count": 44,
     "metadata": {},
     "output_type": "execute_result"
    }
   ],
   "source": [
    "clf_svm"
   ]
  },
  {
   "cell_type": "code",
   "execution_count": 45,
   "metadata": {},
   "outputs": [
    {
     "data": {
      "text/plain": [
       "SVC(C=1, kernel='linear')"
      ]
     },
     "execution_count": 45,
     "metadata": {},
     "output_type": "execute_result"
    }
   ],
   "source": [
    "clf_svm.fit(X_train_svm,y_train)"
   ]
  },
  {
   "cell_type": "code",
   "execution_count": 46,
   "metadata": {},
   "outputs": [
    {
     "data": {
      "text/plain": [
       "0.7637906647807637"
      ]
     },
     "execution_count": 46,
     "metadata": {},
     "output_type": "execute_result"
    }
   ],
   "source": [
    "clf_svm.score(X_test_svm, y_test)"
   ]
  },
  {
   "cell_type": "markdown",
   "metadata": {},
   "source": [
    "## Decision Tree"
   ]
  },
  {
   "cell_type": "code",
   "execution_count": 47,
   "metadata": {},
   "outputs": [],
   "source": [
    "from sklearn import tree"
   ]
  },
  {
   "cell_type": "code",
   "execution_count": 48,
   "metadata": {},
   "outputs": [],
   "source": [
    "clf_decision = tree.DecisionTreeClassifier()"
   ]
  },
  {
   "cell_type": "code",
   "execution_count": 49,
   "metadata": {},
   "outputs": [
    {
     "data": {
      "text/plain": [
       "DecisionTreeClassifier()"
      ]
     },
     "execution_count": 49,
     "metadata": {},
     "output_type": "execute_result"
    }
   ],
   "source": [
    "clf_decision"
   ]
  },
  {
   "cell_type": "code",
   "execution_count": 50,
   "metadata": {},
   "outputs": [
    {
     "data": {
      "text/plain": [
       "DecisionTreeClassifier()"
      ]
     },
     "execution_count": 50,
     "metadata": {},
     "output_type": "execute_result"
    }
   ],
   "source": [
    "clf_decision.fit(X_train[top7_features],y_train)"
   ]
  },
  {
   "cell_type": "code",
   "execution_count": 51,
   "metadata": {},
   "outputs": [
    {
     "data": {
      "text/plain": [
       "0.7538896746817539"
      ]
     },
     "execution_count": 51,
     "metadata": {},
     "output_type": "execute_result"
    }
   ],
   "source": [
    "clf_decision.score(X_test[top7_features], y_test)"
   ]
  },
  {
   "cell_type": "markdown",
   "metadata": {},
   "source": [
    "## Random Forest"
   ]
  },
  {
   "cell_type": "code",
   "execution_count": 52,
   "metadata": {},
   "outputs": [],
   "source": [
    "from sklearn.ensemble import RandomForestClassifier"
   ]
  },
  {
   "cell_type": "code",
   "execution_count": 53,
   "metadata": {},
   "outputs": [],
   "source": [
    "clf_random = RandomForestClassifier(n_estimators=20, \\\n",
    "                                    max_depth=None, \\\n",
    "                                    min_samples_split=7, \\\n",
    "                                    random_state=0) "
   ]
  },
  {
   "cell_type": "code",
   "execution_count": 54,
   "metadata": {},
   "outputs": [
    {
     "data": {
      "text/plain": [
       "RandomForestClassifier(min_samples_split=7, n_estimators=20, random_state=0)"
      ]
     },
     "execution_count": 54,
     "metadata": {},
     "output_type": "execute_result"
    }
   ],
   "source": [
    "clf_random.fit(X_train[top7_features], y_train)"
   ]
  },
  {
   "cell_type": "code",
   "execution_count": 55,
   "metadata": {},
   "outputs": [
    {
     "data": {
      "text/plain": [
       "0.8104667609618105"
      ]
     },
     "execution_count": 55,
     "metadata": {},
     "output_type": "execute_result"
    }
   ],
   "source": [
    "clf_random.score(X_test[top7_features], y_test)"
   ]
  }
 ],
 "metadata": {
  "kernelspec": {
   "display_name": "Python 3",
   "language": "python",
   "name": "python3"
  },
  "language_info": {
   "codemirror_mode": {
    "name": "ipython",
    "version": 3
   },
   "file_extension": ".py",
   "mimetype": "text/x-python",
   "name": "python",
   "nbconvert_exporter": "python",
   "pygments_lexer": "ipython3",
   "version": "3.9.5"
  }
 },
 "nbformat": 4,
 "nbformat_minor": 2
}

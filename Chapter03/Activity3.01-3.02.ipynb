{
 "cells": [
  {
   "cell_type": "markdown",
   "metadata": {},
   "source": [
    "## Activity 3.1 - Bank customer segmentation"
   ]
  },
  {
   "cell_type": "markdown",
   "metadata": {},
   "source": [
    "**1. Importing the necessary libaries**"
   ]
  },
  {
   "cell_type": "code",
   "execution_count": 1,
   "metadata": {},
   "outputs": [],
   "source": [
    "import numpy as np, pandas as pd\n",
    "import matplotlib.pyplot as plt, seaborn as sns\n",
    "from sklearn.preprocessing import StandardScaler\n",
    "from sklearn.cluster import KMeans"
   ]
  },
  {
   "cell_type": "markdown",
   "metadata": {},
   "source": [
    "**2. Load the data into a Pandas dataframe and display the top 5 rows. Use the info method to get an understanding of the columns and their types.**"
   ]
  },
  {
   "cell_type": "code",
   "execution_count": 2,
   "metadata": {
    "scrolled": true
   },
   "outputs": [
    {
     "data": {
      "text/html": [
       "<div>\n",
       "<style scoped>\n",
       "    .dataframe tbody tr th:only-of-type {\n",
       "        vertical-align: middle;\n",
       "    }\n",
       "\n",
       "    .dataframe tbody tr th {\n",
       "        vertical-align: top;\n",
       "    }\n",
       "\n",
       "    .dataframe thead th {\n",
       "        text-align: right;\n",
       "    }\n",
       "</style>\n",
       "<table border=\"1\" class=\"dataframe\">\n",
       "  <thead>\n",
       "    <tr style=\"text-align: right;\">\n",
       "      <th></th>\n",
       "      <th>ID</th>\n",
       "      <th>Age</th>\n",
       "      <th>Experience</th>\n",
       "      <th>Income</th>\n",
       "      <th>ZIP Code</th>\n",
       "      <th>Family</th>\n",
       "      <th>CCAvg</th>\n",
       "      <th>Education</th>\n",
       "      <th>Mortgage</th>\n",
       "      <th>Personal Loan</th>\n",
       "      <th>Securities Account</th>\n",
       "      <th>CD Account</th>\n",
       "      <th>Online</th>\n",
       "      <th>CreditCard</th>\n",
       "    </tr>\n",
       "  </thead>\n",
       "  <tbody>\n",
       "    <tr>\n",
       "      <th>0</th>\n",
       "      <td>1</td>\n",
       "      <td>25</td>\n",
       "      <td>1</td>\n",
       "      <td>49</td>\n",
       "      <td>91107</td>\n",
       "      <td>4</td>\n",
       "      <td>1.6</td>\n",
       "      <td>1</td>\n",
       "      <td>0</td>\n",
       "      <td>0</td>\n",
       "      <td>1</td>\n",
       "      <td>0</td>\n",
       "      <td>0</td>\n",
       "      <td>0</td>\n",
       "    </tr>\n",
       "    <tr>\n",
       "      <th>1</th>\n",
       "      <td>2</td>\n",
       "      <td>45</td>\n",
       "      <td>19</td>\n",
       "      <td>34</td>\n",
       "      <td>90089</td>\n",
       "      <td>3</td>\n",
       "      <td>1.5</td>\n",
       "      <td>1</td>\n",
       "      <td>0</td>\n",
       "      <td>0</td>\n",
       "      <td>1</td>\n",
       "      <td>0</td>\n",
       "      <td>0</td>\n",
       "      <td>0</td>\n",
       "    </tr>\n",
       "    <tr>\n",
       "      <th>2</th>\n",
       "      <td>3</td>\n",
       "      <td>39</td>\n",
       "      <td>15</td>\n",
       "      <td>11</td>\n",
       "      <td>94720</td>\n",
       "      <td>1</td>\n",
       "      <td>1.0</td>\n",
       "      <td>1</td>\n",
       "      <td>0</td>\n",
       "      <td>0</td>\n",
       "      <td>0</td>\n",
       "      <td>0</td>\n",
       "      <td>0</td>\n",
       "      <td>0</td>\n",
       "    </tr>\n",
       "    <tr>\n",
       "      <th>3</th>\n",
       "      <td>4</td>\n",
       "      <td>35</td>\n",
       "      <td>9</td>\n",
       "      <td>100</td>\n",
       "      <td>94112</td>\n",
       "      <td>1</td>\n",
       "      <td>2.7</td>\n",
       "      <td>2</td>\n",
       "      <td>0</td>\n",
       "      <td>0</td>\n",
       "      <td>0</td>\n",
       "      <td>0</td>\n",
       "      <td>0</td>\n",
       "      <td>0</td>\n",
       "    </tr>\n",
       "    <tr>\n",
       "      <th>4</th>\n",
       "      <td>5</td>\n",
       "      <td>35</td>\n",
       "      <td>8</td>\n",
       "      <td>45</td>\n",
       "      <td>91330</td>\n",
       "      <td>4</td>\n",
       "      <td>1.0</td>\n",
       "      <td>2</td>\n",
       "      <td>0</td>\n",
       "      <td>0</td>\n",
       "      <td>0</td>\n",
       "      <td>0</td>\n",
       "      <td>0</td>\n",
       "      <td>1</td>\n",
       "    </tr>\n",
       "  </tbody>\n",
       "</table>\n",
       "</div>"
      ],
      "text/plain": [
       "   ID  Age  Experience  Income  ZIP Code  Family  CCAvg  Education  Mortgage  \\\n",
       "0   1   25           1      49     91107       4    1.6          1         0   \n",
       "1   2   45          19      34     90089       3    1.5          1         0   \n",
       "2   3   39          15      11     94720       1    1.0          1         0   \n",
       "3   4   35           9     100     94112       1    2.7          2         0   \n",
       "4   5   35           8      45     91330       4    1.0          2         0   \n",
       "\n",
       "   Personal Loan  Securities Account  CD Account  Online  CreditCard  \n",
       "0              0                   1           0       0           0  \n",
       "1              0                   1           0       0           0  \n",
       "2              0                   0           0       0           0  \n",
       "3              0                   0           0       0           0  \n",
       "4              0                   0           0       0           1  "
      ]
     },
     "execution_count": 2,
     "metadata": {},
     "output_type": "execute_result"
    }
   ],
   "source": [
    "bank0 = pd.read_csv(\"Bank_Personal_Loan_Modelling-1.csv\")\n",
    "bank0.head()"
   ]
  },
  {
   "cell_type": "markdown",
   "metadata": {},
   "source": [
    "3. Use the info method to get more information about the column types and missing values."
   ]
  },
  {
   "cell_type": "code",
   "execution_count": 3,
   "metadata": {},
   "outputs": [
    {
     "name": "stdout",
     "output_type": "stream",
     "text": [
      "<class 'pandas.core.frame.DataFrame'>\n",
      "RangeIndex: 5000 entries, 0 to 4999\n",
      "Data columns (total 14 columns):\n",
      " #   Column              Non-Null Count  Dtype  \n",
      "---  ------              --------------  -----  \n",
      " 0   ID                  5000 non-null   int64  \n",
      " 1   Age                 5000 non-null   int64  \n",
      " 2   Experience          5000 non-null   int64  \n",
      " 3   Income              5000 non-null   int64  \n",
      " 4   ZIP Code            5000 non-null   int64  \n",
      " 5   Family              5000 non-null   int64  \n",
      " 6   CCAvg               5000 non-null   float64\n",
      " 7   Education           5000 non-null   int64  \n",
      " 8   Mortgage            5000 non-null   int64  \n",
      " 9   Personal Loan       5000 non-null   int64  \n",
      " 10  Securities Account  5000 non-null   int64  \n",
      " 11  CD Account          5000 non-null   int64  \n",
      " 12  Online              5000 non-null   int64  \n",
      " 13  CreditCard          5000 non-null   int64  \n",
      "dtypes: float64(1), int64(13)\n",
      "memory usage: 547.0 KB\n"
     ]
    }
   ],
   "source": [
    "bank0.info()"
   ]
  },
  {
   "cell_type": "markdown",
   "metadata": {},
   "source": [
    "4. Perform standard scaling on the columns 'Income' and 'CCAvg' to create new columns 'Income_scaled' and 'CCAvg_scaled'. We will be using these two variables for customer segmentation. Get a descriptive summary of the processed columns to verify that the scaling has been applied correctly.**"
   ]
  },
  {
   "cell_type": "code",
   "execution_count": 4,
   "metadata": {},
   "outputs": [
    {
     "data": {
      "text/html": [
       "<div>\n",
       "<style scoped>\n",
       "    .dataframe tbody tr th:only-of-type {\n",
       "        vertical-align: middle;\n",
       "    }\n",
       "\n",
       "    .dataframe tbody tr th {\n",
       "        vertical-align: top;\n",
       "    }\n",
       "\n",
       "    .dataframe thead th {\n",
       "        text-align: right;\n",
       "    }\n",
       "</style>\n",
       "<table border=\"1\" class=\"dataframe\">\n",
       "  <thead>\n",
       "    <tr style=\"text-align: right;\">\n",
       "      <th></th>\n",
       "      <th>Income_scaled</th>\n",
       "      <th>CCAvg_scaled</th>\n",
       "    </tr>\n",
       "  </thead>\n",
       "  <tbody>\n",
       "    <tr>\n",
       "      <th>count</th>\n",
       "      <td>5.000000e+03</td>\n",
       "      <td>5.000000e+03</td>\n",
       "    </tr>\n",
       "    <tr>\n",
       "      <th>mean</th>\n",
       "      <td>1.939449e-16</td>\n",
       "      <td>-2.078338e-17</td>\n",
       "    </tr>\n",
       "    <tr>\n",
       "      <th>std</th>\n",
       "      <td>1.000100e+00</td>\n",
       "      <td>1.000100e+00</td>\n",
       "    </tr>\n",
       "    <tr>\n",
       "      <th>min</th>\n",
       "      <td>-1.428969e+00</td>\n",
       "      <td>-1.108987e+00</td>\n",
       "    </tr>\n",
       "    <tr>\n",
       "      <th>25%</th>\n",
       "      <td>-7.554825e-01</td>\n",
       "      <td>-7.084116e-01</td>\n",
       "    </tr>\n",
       "    <tr>\n",
       "      <th>50%</th>\n",
       "      <td>-2.123482e-01</td>\n",
       "      <td>-2.506106e-01</td>\n",
       "    </tr>\n",
       "    <tr>\n",
       "      <th>75%</th>\n",
       "      <td>5.263146e-01</td>\n",
       "      <td>3.216407e-01</td>\n",
       "    </tr>\n",
       "    <tr>\n",
       "      <th>max</th>\n",
       "      <td>3.263712e+00</td>\n",
       "      <td>4.613525e+00</td>\n",
       "    </tr>\n",
       "  </tbody>\n",
       "</table>\n",
       "</div>"
      ],
      "text/plain": [
       "       Income_scaled  CCAvg_scaled\n",
       "count   5.000000e+03  5.000000e+03\n",
       "mean    1.939449e-16 -2.078338e-17\n",
       "std     1.000100e+00  1.000100e+00\n",
       "min    -1.428969e+00 -1.108987e+00\n",
       "25%    -7.554825e-01 -7.084116e-01\n",
       "50%    -2.123482e-01 -2.506106e-01\n",
       "75%     5.263146e-01  3.216407e-01\n",
       "max     3.263712e+00  4.613525e+00"
      ]
     },
     "execution_count": 4,
     "metadata": {},
     "output_type": "execute_result"
    }
   ],
   "source": [
    "scaler = StandardScaler()\n",
    "\n",
    "bank0[['Income_scaled', 'CCAvg_scaled']] = scaler.fit_transform\\\n",
    "                                           (bank0[['Income', \\\n",
    "                                                   'CCAvg']])\n",
    "\n",
    "bank0[['Income_scaled', 'CCAvg_scaled']].describe()"
   ]
  },
  {
   "cell_type": "markdown",
   "metadata": {},
   "source": [
    "5. Perform k-means clustering  specifying 3 clusters using 'Income' and 'CCAvg' as the features. Specify random_state as 42. Create a new column 'Cluster' containing the predicted cluster from the model.**"
   ]
  },
  {
   "cell_type": "code",
   "execution_count": 5,
   "metadata": {},
   "outputs": [],
   "source": [
    "model = KMeans(n_clusters=3, random_state=42)\n",
    "\n",
    "cluster_cols = ['Income_scaled', 'CCAvg_scaled']\n",
    "model.fit(bank0[cluster_cols])\n",
    "\n",
    "bank0['Cluster'] = model.predict(bank0[cluster_cols])"
   ]
  },
  {
   "cell_type": "markdown",
   "metadata": {},
   "source": [
    "6. Visualize the clusters by using different markers and colours for the clusters on a scatterplot between 'Income' and 'CCAvg'**"
   ]
  },
  {
   "cell_type": "code",
   "execution_count": 6,
   "metadata": {},
   "outputs": [
    {
     "data": {
      "image/png": "[encoded data removed]",
      "text/plain": [
       "<Figure size 576x360 with 1 Axes>"
      ]
     },
     "metadata": {
      "needs_background": "light"
     },
     "output_type": "display_data"
    }
   ],
   "source": [
    "markers = ['x', '.', '_']\n",
    "\n",
    "plt.figure(figsize=[8,5])\n",
    "for clust in range(3):\n",
    "    temp = bank0[bank0.Cluster == clust]\n",
    "    plt.scatter(temp.Income, temp.CCAvg, \\\n",
    "                marker=markers[clust], \\\n",
    "                color='gray',\\\n",
    "                label=\"Cluster \"+str(clust) )\n",
    "\n",
    "plt.xlabel('Income')\n",
    "plt.ylabel('CCAvg')\n",
    "plt.legend()\n",
    "plt.show()"
   ]
  },
  {
   "cell_type": "markdown",
   "metadata": {},
   "source": [
    "7.\tTo understand the clusters, print the average values of Income and CCAvg for the three clusters. "
   ]
  },
  {
   "cell_type": "code",
   "execution_count": 9,
   "metadata": {
    "scrolled": true
   },
   "outputs": [
    {
     "data": {
      "text/html": [
       "<div>\n",
       "<style scoped>\n",
       "    .dataframe tbody tr th:only-of-type {\n",
       "        vertical-align: middle;\n",
       "    }\n",
       "\n",
       "    .dataframe tbody tr th {\n",
       "        vertical-align: top;\n",
       "    }\n",
       "\n",
       "    .dataframe thead th {\n",
       "        text-align: right;\n",
       "    }\n",
       "</style>\n",
       "<table border=\"1\" class=\"dataframe\">\n",
       "  <thead>\n",
       "    <tr style=\"text-align: right;\">\n",
       "      <th></th>\n",
       "      <th>Income</th>\n",
       "      <th>CCAvg</th>\n",
       "    </tr>\n",
       "    <tr>\n",
       "      <th>Cluster</th>\n",
       "      <th></th>\n",
       "      <th></th>\n",
       "    </tr>\n",
       "  </thead>\n",
       "  <tbody>\n",
       "    <tr>\n",
       "      <th>0</th>\n",
       "      <td>150.390282</td>\n",
       "      <td>5.540345</td>\n",
       "    </tr>\n",
       "    <tr>\n",
       "      <th>1</th>\n",
       "      <td>39.135072</td>\n",
       "      <td>0.982417</td>\n",
       "    </tr>\n",
       "    <tr>\n",
       "      <th>2</th>\n",
       "      <td>96.142777</td>\n",
       "      <td>2.025165</td>\n",
       "    </tr>\n",
       "  </tbody>\n",
       "</table>\n",
       "</div>"
      ],
      "text/plain": [
       "             Income     CCAvg\n",
       "Cluster                      \n",
       "0        150.390282  5.540345\n",
       "1         39.135072  0.982417\n",
       "2         96.142777  2.025165"
      ]
     },
     "execution_count": 9,
     "metadata": {},
     "output_type": "execute_result"
    }
   ],
   "source": [
    "bank0.groupby('Cluster')[['Income', 'CCAvg']].mean()"
   ]
  },
  {
   "cell_type": "markdown",
   "metadata": {},
   "source": [
    "8. Perform a visual comparison of the clusters using the standardized values for Income and CCAvg."
   ]
  },
  {
   "cell_type": "code",
   "execution_count": 10,
   "metadata": {},
   "outputs": [
    {
     "data": {
      "image/png": "[encoded data removed]",
      "text/plain": [
       "<Figure size 432x288 with 1 Axes>"
      ]
     },
     "metadata": {
      "needs_background": "light"
     },
     "output_type": "display_data"
    }
   ],
   "source": [
    "bank0.groupby('Cluster')[['Income_scaled', 'CCAvg_scaled']]\\\n",
    "                        .mean().plot\\\n",
    "                        .bar(color=['gray','black'])\n",
    "plt.show()"
   ]
  },
  {
   "cell_type": "markdown",
   "metadata": {},
   "source": [
    "9. Understanding the clusters - using other relevant features:**\n",
    " - Print the average values against the clusters for the features Age, Mortgage, Family, CreditCard, Online, Personal Loan\n",
    " - Which cluster has the highest propensity for taking a personal loan?"
   ]
  },
  {
   "cell_type": "code",
   "execution_count": 11,
   "metadata": {},
   "outputs": [
    {
     "data": {
      "text/html": [
       "<div>\n",
       "<style scoped>\n",
       "    .dataframe tbody tr th:only-of-type {\n",
       "        vertical-align: middle;\n",
       "    }\n",
       "\n",
       "    .dataframe tbody tr th {\n",
       "        vertical-align: top;\n",
       "    }\n",
       "\n",
       "    .dataframe thead th {\n",
       "        text-align: right;\n",
       "    }\n",
       "</style>\n",
       "<table border=\"1\" class=\"dataframe\">\n",
       "  <thead>\n",
       "    <tr style=\"text-align: right;\">\n",
       "      <th></th>\n",
       "      <th>Income</th>\n",
       "      <th>CCAvg</th>\n",
       "      <th>Age</th>\n",
       "      <th>Mortgage</th>\n",
       "      <th>Family</th>\n",
       "      <th>CreditCard</th>\n",
       "      <th>Online</th>\n",
       "      <th>Personal Loan</th>\n",
       "    </tr>\n",
       "    <tr>\n",
       "      <th>Cluster</th>\n",
       "      <th></th>\n",
       "      <th></th>\n",
       "      <th></th>\n",
       "      <th></th>\n",
       "      <th></th>\n",
       "      <th></th>\n",
       "      <th></th>\n",
       "      <th></th>\n",
       "    </tr>\n",
       "  </thead>\n",
       "  <tbody>\n",
       "    <tr>\n",
       "      <th>0</th>\n",
       "      <td>150.390282</td>\n",
       "      <td>5.540345</td>\n",
       "      <td>43.924765</td>\n",
       "      <td>89.537618</td>\n",
       "      <td>2.017241</td>\n",
       "      <td>0.285266</td>\n",
       "      <td>0.605016</td>\n",
       "      <td>0.413793</td>\n",
       "    </tr>\n",
       "    <tr>\n",
       "      <th>1</th>\n",
       "      <td>39.135072</td>\n",
       "      <td>0.982417</td>\n",
       "      <td>45.797197</td>\n",
       "      <td>42.231218</td>\n",
       "      <td>2.513429</td>\n",
       "      <td>0.294667</td>\n",
       "      <td>0.592448</td>\n",
       "      <td>0.000000</td>\n",
       "    </tr>\n",
       "    <tr>\n",
       "      <th>2</th>\n",
       "      <td>96.142777</td>\n",
       "      <td>2.025165</td>\n",
       "      <td>45.184049</td>\n",
       "      <td>65.185165</td>\n",
       "      <td>2.363636</td>\n",
       "      <td>0.296152</td>\n",
       "      <td>0.600112</td>\n",
       "      <td>0.120468</td>\n",
       "    </tr>\n",
       "  </tbody>\n",
       "</table>\n",
       "</div>"
      ],
      "text/plain": [
       "             Income     CCAvg        Age   Mortgage    Family  CreditCard  \\\n",
       "Cluster                                                                     \n",
       "0        150.390282  5.540345  43.924765  89.537618  2.017241    0.285266   \n",
       "1         39.135072  0.982417  45.797197  42.231218  2.513429    0.294667   \n",
       "2         96.142777  2.025165  45.184049  65.185165  2.363636    0.296152   \n",
       "\n",
       "           Online  Personal Loan  \n",
       "Cluster                           \n",
       "0        0.605016       0.413793  \n",
       "1        0.592448       0.000000  \n",
       "2        0.600112       0.120468  "
      ]
     },
     "execution_count": 11,
     "metadata": {},
     "output_type": "execute_result"
    }
   ],
   "source": [
    "sel_cols = ['Income', 'CCAvg', 'Age', 'Mortgage', 'Family', \\\n",
    "            'CreditCard', 'Online', 'Personal Loan']\n",
    "bank0.groupby('Cluster')[sel_cols].mean()"
   ]
  },
  {
   "cell_type": "markdown",
   "metadata": {},
   "source": [
    "10. Based on your understanding of the clusters, assign descriptive lables for the clusters.**"
   ]
  },
  {
   "cell_type": "markdown",
   "metadata": {},
   "source": [
    "Key differentiating features for the clusters are - \n",
    "- Income\n",
    "- CCAvg\n",
    "- Mortgage\n",
    "\n",
    "Some basic labels for these clusters can be - \n",
    "\n",
    "* Cluster 0: Average Joes (medium income, medium spend)\n",
    "* Cluster 1: Low spend potential\n",
    "* Cluster 2: High income spenders"
   ]
  },
  {
   "cell_type": "markdown",
   "metadata": {},
   "source": [
    "## Activity 3.2 - Bank customer segmentation using many dimensions\n",
    "\n",
    "**Steps -** \n",
    "1. Create a copy of the dataset named 'bank_scaled', and on it perform standard scaling of the following columns - \n",
    "     - 'Income', 'CCAvg', 'Age', 'Experience', 'Mortgage'\n",
    "2. Get a descriptive summary of the processed columns to verify that the scaling has been applied correctly.\n",
    "3. Perform k-means clustering  specifying 3 clusters using the scaled features. Specify random_state as 42.\n",
    "4. Using PCA on the scaled columns, create new columns 'pc1' and 'pc2' containing the data for PC1 and PC2 respectively.\n",
    "5. Visualize the clusters by using different markers and colours for the clusters on a scatterplot between 'pc1' and 'pc2'\n",
    "6. Understanding the clusters - clustering criterion:\n",
    " - Print the avg. values of the features used for clustering against the three clusters\n",
    " - Which features are the most differentiated for the clusters?\n",
    "7. Understanding the clusters - using other relevant features:**\n",
    " - Print the average values against the clusters for the features Age, Mortgage, Family, CreditCard, Online, Personal Loan\n",
    " - Which cluster has the highest propensity for taking a personal loan?\n",
    "8. Based on your understanding of the clusters, assign descriptive lables for the clusters."
   ]
  },
  {
   "cell_type": "markdown",
   "metadata": {},
   "source": [
    "#### Solution\n",
    "**1. Create a copy of the dataset named 'bank_scaled', and on it perform standard scaling of the following columns -**  \n",
    "- **'Income', 'CCAvg', 'Age', 'Experience', 'Mortgage'**"
   ]
  },
  {
   "cell_type": "code",
   "execution_count": 12,
   "metadata": {},
   "outputs": [],
   "source": [
    "bank_scaled = bank0.copy()\n",
    "\n",
    "cluster_cols = ['Income', 'CCAvg', 'Age', 'Experience', \\\n",
    "                'Mortgage']\n",
    "\n",
    "bank_scaled[cluster_cols] = scaler.fit_transform\\\n",
    "                            (bank_scaled[cluster_cols])"
   ]
  },
  {
   "cell_type": "markdown",
   "metadata": {},
   "source": [
    "**2. Get a descriptive summary of the processed columns to verify that the scaling has been applied correctly.**"
   ]
  },
  {
   "cell_type": "code",
   "execution_count": 13,
   "metadata": {},
   "outputs": [
    {
     "data": {
      "text/html": [
       "<div>\n",
       "<style scoped>\n",
       "    .dataframe tbody tr th:only-of-type {\n",
       "        vertical-align: middle;\n",
       "    }\n",
       "\n",
       "    .dataframe tbody tr th {\n",
       "        vertical-align: top;\n",
       "    }\n",
       "\n",
       "    .dataframe thead th {\n",
       "        text-align: right;\n",
       "    }\n",
       "</style>\n",
       "<table border=\"1\" class=\"dataframe\">\n",
       "  <thead>\n",
       "    <tr style=\"text-align: right;\">\n",
       "      <th></th>\n",
       "      <th>Income</th>\n",
       "      <th>CCAvg</th>\n",
       "      <th>Age</th>\n",
       "      <th>Experience</th>\n",
       "      <th>Mortgage</th>\n",
       "    </tr>\n",
       "  </thead>\n",
       "  <tbody>\n",
       "    <tr>\n",
       "      <th>count</th>\n",
       "      <td>5.000000e+03</td>\n",
       "      <td>5.000000e+03</td>\n",
       "      <td>5.000000e+03</td>\n",
       "      <td>5.000000e+03</td>\n",
       "      <td>5.000000e+03</td>\n",
       "    </tr>\n",
       "    <tr>\n",
       "      <th>mean</th>\n",
       "      <td>1.939449e-16</td>\n",
       "      <td>-2.078338e-17</td>\n",
       "      <td>2.478018e-17</td>\n",
       "      <td>-1.693312e-16</td>\n",
       "      <td>2.810197e-16</td>\n",
       "    </tr>\n",
       "    <tr>\n",
       "      <th>std</th>\n",
       "      <td>1.000100e+00</td>\n",
       "      <td>1.000100e+00</td>\n",
       "      <td>1.000100e+00</td>\n",
       "      <td>1.000100e+00</td>\n",
       "      <td>1.000100e+00</td>\n",
       "    </tr>\n",
       "    <tr>\n",
       "      <th>min</th>\n",
       "      <td>-1.428969e+00</td>\n",
       "      <td>-1.108987e+00</td>\n",
       "      <td>-1.948906e+00</td>\n",
       "      <td>-2.014911e+00</td>\n",
       "      <td>-5.555239e-01</td>\n",
       "    </tr>\n",
       "    <tr>\n",
       "      <th>25%</th>\n",
       "      <td>-7.554825e-01</td>\n",
       "      <td>-7.084116e-01</td>\n",
       "      <td>-9.019702e-01</td>\n",
       "      <td>-8.812043e-01</td>\n",
       "      <td>-5.555239e-01</td>\n",
       "    </tr>\n",
       "    <tr>\n",
       "      <th>50%</th>\n",
       "      <td>-2.123482e-01</td>\n",
       "      <td>-2.506106e-01</td>\n",
       "      <td>-2.952359e-02</td>\n",
       "      <td>-9.121982e-03</td>\n",
       "      <td>-5.555239e-01</td>\n",
       "    </tr>\n",
       "    <tr>\n",
       "      <th>75%</th>\n",
       "      <td>5.263146e-01</td>\n",
       "      <td>3.216407e-01</td>\n",
       "      <td>8.429230e-01</td>\n",
       "      <td>8.629604e-01</td>\n",
       "      <td>4.375576e-01</td>\n",
       "    </tr>\n",
       "    <tr>\n",
       "      <th>max</th>\n",
       "      <td>3.263712e+00</td>\n",
       "      <td>4.613525e+00</td>\n",
       "      <td>1.889859e+00</td>\n",
       "      <td>1.996667e+00</td>\n",
       "      <td>5.688108e+00</td>\n",
       "    </tr>\n",
       "  </tbody>\n",
       "</table>\n",
       "</div>"
      ],
      "text/plain": [
       "             Income         CCAvg           Age    Experience      Mortgage\n",
       "count  5.000000e+03  5.000000e+03  5.000000e+03  5.000000e+03  5.000000e+03\n",
       "mean   1.939449e-16 -2.078338e-17  2.478018e-17 -1.693312e-16  2.810197e-16\n",
       "std    1.000100e+00  1.000100e+00  1.000100e+00  1.000100e+00  1.000100e+00\n",
       "min   -1.428969e+00 -1.108987e+00 -1.948906e+00 -2.014911e+00 -5.555239e-01\n",
       "25%   -7.554825e-01 -7.084116e-01 -9.019702e-01 -8.812043e-01 -5.555239e-01\n",
       "50%   -2.123482e-01 -2.506106e-01 -2.952359e-02 -9.121982e-03 -5.555239e-01\n",
       "75%    5.263146e-01  3.216407e-01  8.429230e-01  8.629604e-01  4.375576e-01\n",
       "max    3.263712e+00  4.613525e+00  1.889859e+00  1.996667e+00  5.688108e+00"
      ]
     },
     "execution_count": 13,
     "metadata": {},
     "output_type": "execute_result"
    }
   ],
   "source": [
    "bank_scaled[cluster_cols].describe()"
   ]
  },
  {
   "cell_type": "markdown",
   "metadata": {},
   "source": [
    "**3. Perform k-means clustering  specifying 3 clusters using the scaled features. Specify random_state as 42.**"
   ]
  },
  {
   "cell_type": "code",
   "execution_count": 14,
   "metadata": {},
   "outputs": [],
   "source": [
    "model = KMeans(n_clusters=3, random_state=42)\n",
    "model.fit(bank_scaled[cluster_cols])\n",
    "\n",
    "bank_scaled['Cluster'] = model.predict(bank_scaled[cluster_cols])"
   ]
  },
  {
   "cell_type": "markdown",
   "metadata": {},
   "source": [
    "**4. Using PCA on the scaled columns, create new columns 'pc1' and 'pc2' containing the data for PC1 and PC2 respectively.**"
   ]
  },
  {
   "cell_type": "code",
   "execution_count": 15,
   "metadata": {},
   "outputs": [],
   "source": [
    "from sklearn import decomposition\n",
    "\n",
    "pca = decomposition.PCA(n_components=2)\n",
    "pca_res = pca.fit_transform(bank_scaled[cluster_cols])\n",
    "\n",
    "bank_scaled['pc1'] = pca_res[:,0]\n",
    "bank_scaled['pc2'] = pca_res[:,1]"
   ]
  },
  {
   "cell_type": "markdown",
   "metadata": {},
   "source": [
    "**5. Visualize the clusters by using different markers and colours for the clusters on a scatterplot between 'pc1' and 'pc2'**"
   ]
  },
  {
   "cell_type": "code",
   "execution_count": 20,
   "metadata": {},
   "outputs": [
    {
     "data": {
      "image/png": "[encoded data removed]",
      "text/plain": [
       "<Figure size 720x864 with 1 Axes>"
      ]
     },
     "metadata": {
      "needs_background": "light"
     },
     "output_type": "display_data"
    }
   ],
   "source": [
    "markers = ['x', '.', '_']\n",
    "plt.figure(figsize=[10,12])\n",
    "\n",
    "for clust in range(3):\n",
    "    temp = bank_scaled[bank_scaled.Cluster == clust]\n",
    "    plt.scatter(temp.pc1, temp.pc2, marker=markers[clust], \\\n",
    "                label=\"Cluster \"+str(clust), \\\n",
    "                color='gray')\n",
    "\n",
    "plt.xlabel('PC1')\n",
    "plt.ylabel('PC2')\n",
    "plt.legend()\n",
    "plt.show()"
   ]
  },
  {
   "cell_type": "markdown",
   "metadata": {},
   "source": [
    "**6. To understand the clusters better, print the avg. values of the original features used for clustering against the three clusters. Which features are the most differentiated for the clusters?**"
   ]
  },
  {
   "cell_type": "code",
   "execution_count": 21,
   "metadata": {},
   "outputs": [
    {
     "data": {
      "text/html": [
       "<div>\n",
       "<style scoped>\n",
       "    .dataframe tbody tr th:only-of-type {\n",
       "        vertical-align: middle;\n",
       "    }\n",
       "\n",
       "    .dataframe tbody tr th {\n",
       "        vertical-align: top;\n",
       "    }\n",
       "\n",
       "    .dataframe thead th {\n",
       "        text-align: right;\n",
       "    }\n",
       "</style>\n",
       "<table border=\"1\" class=\"dataframe\">\n",
       "  <thead>\n",
       "    <tr style=\"text-align: right;\">\n",
       "      <th></th>\n",
       "      <th>Income</th>\n",
       "      <th>CCAvg</th>\n",
       "      <th>Age</th>\n",
       "      <th>Experience</th>\n",
       "      <th>Mortgage</th>\n",
       "    </tr>\n",
       "    <tr>\n",
       "      <th>Cluster</th>\n",
       "      <th></th>\n",
       "      <th></th>\n",
       "      <th></th>\n",
       "      <th></th>\n",
       "      <th></th>\n",
       "    </tr>\n",
       "  </thead>\n",
       "  <tbody>\n",
       "    <tr>\n",
       "      <th>0</th>\n",
       "      <td>58.941774</td>\n",
       "      <td>1.367514</td>\n",
       "      <td>55.536044</td>\n",
       "      <td>30.233826</td>\n",
       "      <td>45.134935</td>\n",
       "    </tr>\n",
       "    <tr>\n",
       "      <th>1</th>\n",
       "      <td>147.650185</td>\n",
       "      <td>4.856403</td>\n",
       "      <td>43.672435</td>\n",
       "      <td>18.644005</td>\n",
       "      <td>116.279357</td>\n",
       "    </tr>\n",
       "    <tr>\n",
       "      <th>2</th>\n",
       "      <td>60.124322</td>\n",
       "      <td>1.382121</td>\n",
       "      <td>35.116428</td>\n",
       "      <td>9.873705</td>\n",
       "      <td>44.771584</td>\n",
       "    </tr>\n",
       "  </tbody>\n",
       "</table>\n",
       "</div>"
      ],
      "text/plain": [
       "             Income     CCAvg        Age  Experience    Mortgage\n",
       "Cluster                                                         \n",
       "0         58.941774  1.367514  55.536044   30.233826   45.134935\n",
       "1        147.650185  4.856403  43.672435   18.644005  116.279357\n",
       "2         60.124322  1.382121  35.116428    9.873705   44.771584"
      ]
     },
     "execution_count": 21,
     "metadata": {},
     "output_type": "execute_result"
    }
   ],
   "source": [
    "bank0['Cluster'] = bank_scaled.Cluster\n",
    "bank0.groupby('Cluster')[cluster_cols].mean()"
   ]
  },
  {
   "cell_type": "markdown",
   "metadata": {},
   "source": [
    "**7. To understand the clusters better using other relevant features, print the average values against the clusters for the features Age, Mortgage, Family, CreditCard, Online, Personal Loan. Which cluster has the highest propensity for taking a personal loan?**"
   ]
  },
  {
   "cell_type": "code",
   "execution_count": 23,
   "metadata": {},
   "outputs": [
    {
     "data": {
      "text/html": [
       "<div>\n",
       "<style scoped>\n",
       "    .dataframe tbody tr th:only-of-type {\n",
       "        vertical-align: middle;\n",
       "    }\n",
       "\n",
       "    .dataframe tbody tr th {\n",
       "        vertical-align: top;\n",
       "    }\n",
       "\n",
       "    .dataframe thead th {\n",
       "        text-align: right;\n",
       "    }\n",
       "</style>\n",
       "<table border=\"1\" class=\"dataframe\">\n",
       "  <thead>\n",
       "    <tr style=\"text-align: right;\">\n",
       "      <th></th>\n",
       "      <th>Income</th>\n",
       "      <th>CCAvg</th>\n",
       "      <th>Age</th>\n",
       "      <th>Experience</th>\n",
       "      <th>Mortgage</th>\n",
       "      <th>Family</th>\n",
       "      <th>CreditCard</th>\n",
       "      <th>Online</th>\n",
       "      <th>Personal Loan</th>\n",
       "    </tr>\n",
       "    <tr>\n",
       "      <th>Cluster</th>\n",
       "      <th></th>\n",
       "      <th></th>\n",
       "      <th></th>\n",
       "      <th></th>\n",
       "      <th></th>\n",
       "      <th></th>\n",
       "      <th></th>\n",
       "      <th></th>\n",
       "      <th></th>\n",
       "    </tr>\n",
       "  </thead>\n",
       "  <tbody>\n",
       "    <tr>\n",
       "      <th>0</th>\n",
       "      <td>58.941774</td>\n",
       "      <td>1.367514</td>\n",
       "      <td>55.536044</td>\n",
       "      <td>30.233826</td>\n",
       "      <td>45.134935</td>\n",
       "      <td>2.397874</td>\n",
       "      <td>0.300370</td>\n",
       "      <td>0.604898</td>\n",
       "      <td>0.039741</td>\n",
       "    </tr>\n",
       "    <tr>\n",
       "      <th>1</th>\n",
       "      <td>147.650185</td>\n",
       "      <td>4.856403</td>\n",
       "      <td>43.672435</td>\n",
       "      <td>18.644005</td>\n",
       "      <td>116.279357</td>\n",
       "      <td>2.002472</td>\n",
       "      <td>0.299135</td>\n",
       "      <td>0.613103</td>\n",
       "      <td>0.398022</td>\n",
       "    </tr>\n",
       "    <tr>\n",
       "      <th>2</th>\n",
       "      <td>60.124322</td>\n",
       "      <td>1.382121</td>\n",
       "      <td>35.116428</td>\n",
       "      <td>9.873705</td>\n",
       "      <td>44.771584</td>\n",
       "      <td>2.552047</td>\n",
       "      <td>0.285150</td>\n",
       "      <td>0.581648</td>\n",
       "      <td>0.035520</td>\n",
       "    </tr>\n",
       "  </tbody>\n",
       "</table>\n",
       "</div>"
      ],
      "text/plain": [
       "             Income     CCAvg        Age  Experience    Mortgage    Family  \\\n",
       "Cluster                                                                      \n",
       "0         58.941774  1.367514  55.536044   30.233826   45.134935  2.397874   \n",
       "1        147.650185  4.856403  43.672435   18.644005  116.279357  2.002472   \n",
       "2         60.124322  1.382121  35.116428    9.873705   44.771584  2.552047   \n",
       "\n",
       "         CreditCard    Online  Personal Loan  \n",
       "Cluster                                       \n",
       "0          0.300370  0.604898       0.039741  \n",
       "1          0.299135  0.613103       0.398022  \n",
       "2          0.285150  0.581648       0.035520  "
      ]
     },
     "execution_count": 23,
     "metadata": {},
     "output_type": "execute_result"
    }
   ],
   "source": [
    "sel_cols = ['Income', 'CCAvg', 'Age', 'Experience', 'Mortgage', \\\n",
    "            'Family', 'CreditCard', 'Online', 'Personal Loan']\n",
    "\n",
    "bank0.groupby('Cluster')[sel_cols].mean()"
   ]
  },
  {
   "cell_type": "markdown",
   "metadata": {},
   "source": [
    "Clusters are different on different parameters. But it looks like the clusters 1 and 2 have very similar propensity to go for a personal loan."
   ]
  },
  {
   "cell_type": "markdown",
   "metadata": {},
   "source": [
    "**8. Based on your understanding of the clusters, assign descriptive lables for the clusters.**"
   ]
  },
  {
   "cell_type": "markdown",
   "metadata": {},
   "source": [
    "Key differentiating features for the clusters are - \n",
    "- Age\n",
    "- Income, CCAvg, Mortgage follow similar patterns for the clusters\n",
    "\n",
    "Some basic labels for these clusters can be - \n",
    "\n",
    "* Cluster 0: Middle aged spenders (high income, high spend)\n",
    "* Cluster 1: Old low spend potential\n",
    "* Cluster 2: Young low spend potential"
   ]
  }
 ],
 "metadata": {
  "kernelspec": {
   "display_name": "Python 3",
   "language": "python",
   "name": "python3"
  },
  "language_info": {
   "codemirror_mode": {
    "name": "ipython",
    "version": 3
   },
   "file_extension": ".py",
   "mimetype": "text/x-python",
   "name": "python",
   "nbconvert_exporter": "python",
   "pygments_lexer": "ipython3",
   "version": "3.8.5"
  }
 },
 "nbformat": 4,
 "nbformat_minor": 4
}

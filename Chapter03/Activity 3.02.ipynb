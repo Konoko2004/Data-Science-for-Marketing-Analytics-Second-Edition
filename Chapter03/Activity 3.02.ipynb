{
 "cells": [
  {
   "cell_type": "markdown",
   "metadata": {},
   "source": [
    "## Activity 3.2 - Bank customer segmentation using many dimensions\n",
    "\n",
    "**Steps -** \n",
    "1. Create a copy of the dataset named 'bank_scaled', and on it perform standard scaling of the following columns - \n",
    "     - 'Income', 'CCAvg', 'Age', 'Experience', 'Mortgage'\n",
    "2. Get a descriptive summary of the processed columns to verify that the scaling has been applied correctly.\n",
    "3. Perform k-means clustering  specifying 3 clusters using the scaled features. Specify random_state as 42.\n",
    "4. Using PCA on the scaled columns, create new columns 'pc1' and 'pc2' containing the data for PC1 and PC2 respectively.\n",
    "5. Visualize the clusters by using different markers and colours for the clusters on a scatterplot between 'pc1' and 'pc2'\n",
    "6. Understanding the clusters - clustering criterion:\n",
    " - Print the avg. values of the features used for clustering against the three clusters\n",
    " - Which features are the most differentiated for the clusters?\n",
    "7. Understanding the clusters - using other relevant features:**\n",
    " - Print the average values against the clusters for the features Age, Mortgage, Family, CreditCard, Online, Personal Loan\n",
    " - Which cluster has the highest propensity for taking a personal loan?\n",
    "8. Based on your understanding of the clusters, assign descriptive lables for the clusters."
   ]
  },
  {
   "cell_type": "markdown",
   "metadata": {},
   "source": [
    "#### Solution\n",
    "**1. Create a copy of the dataset named 'bank_scaled', and on it perform standard scaling of the following columns -**  \n",
    "- **'Income', 'CCAvg', 'Age', 'Experience', 'Mortgage'**"
   ]
  },
  {
   "cell_type": "code",
   "execution_count": 16,
   "metadata": {},
   "outputs": [],
   "source": [
    "bank_scaled = bank0.copy()\n",
    "\n",
    "cluster_cols = ['Income', 'CCAvg', 'Age', 'Experience', \\\n",
    "                'Mortgage']\n",
    "\n",
    "bank_scaled[cluster_cols] = scaler.fit_transform(bank_scaled[cluster_cols])"
   ]
  },
  {
   "cell_type": "markdown",
   "metadata": {},
   "source": [
    "**2. Get a descriptive summary of the processed columns to verify that the scaling has been applied correctly.**"
   ]
  },
  {
   "cell_type": "code",
   "execution_count": 17,
   "metadata": {},
   "outputs": [
    {
     "data": {
      "text/html": [
       "<div>\n",
       "<style scoped>\n",
       "    .dataframe tbody tr th:only-of-type {\n",
       "        vertical-align: middle;\n",
       "    }\n",
       "\n",
       "    .dataframe tbody tr th {\n",
       "        vertical-align: top;\n",
       "    }\n",
       "\n",
       "    .dataframe thead th {\n",
       "        text-align: right;\n",
       "    }\n",
       "</style>\n",
       "<table border=\"1\" class=\"dataframe\">\n",
       "  <thead>\n",
       "    <tr style=\"text-align: right;\">\n",
       "      <th></th>\n",
       "      <th>Income</th>\n",
       "      <th>CCAvg</th>\n",
       "      <th>Age</th>\n",
       "      <th>Experience</th>\n",
       "      <th>Mortgage</th>\n",
       "    </tr>\n",
       "  </thead>\n",
       "  <tbody>\n",
       "    <tr>\n",
       "      <th>count</th>\n",
       "      <td>5.000000e+03</td>\n",
       "      <td>5.000000e+03</td>\n",
       "      <td>5.000000e+03</td>\n",
       "      <td>5.000000e+03</td>\n",
       "      <td>5.000000e+03</td>\n",
       "    </tr>\n",
       "    <tr>\n",
       "      <th>mean</th>\n",
       "      <td>1.939449e-16</td>\n",
       "      <td>-2.078338e-17</td>\n",
       "      <td>2.478018e-17</td>\n",
       "      <td>-1.693312e-16</td>\n",
       "      <td>2.810197e-16</td>\n",
       "    </tr>\n",
       "    <tr>\n",
       "      <th>std</th>\n",
       "      <td>1.000100e+00</td>\n",
       "      <td>1.000100e+00</td>\n",
       "      <td>1.000100e+00</td>\n",
       "      <td>1.000100e+00</td>\n",
       "      <td>1.000100e+00</td>\n",
       "    </tr>\n",
       "    <tr>\n",
       "      <th>min</th>\n",
       "      <td>-1.428969e+00</td>\n",
       "      <td>-1.108987e+00</td>\n",
       "      <td>-1.948906e+00</td>\n",
       "      <td>-2.014911e+00</td>\n",
       "      <td>-5.555239e-01</td>\n",
       "    </tr>\n",
       "    <tr>\n",
       "      <th>25%</th>\n",
       "      <td>-7.554825e-01</td>\n",
       "      <td>-7.084116e-01</td>\n",
       "      <td>-9.019702e-01</td>\n",
       "      <td>-8.812043e-01</td>\n",
       "      <td>-5.555239e-01</td>\n",
       "    </tr>\n",
       "    <tr>\n",
       "      <th>50%</th>\n",
       "      <td>-2.123482e-01</td>\n",
       "      <td>-2.506106e-01</td>\n",
       "      <td>-2.952359e-02</td>\n",
       "      <td>-9.121982e-03</td>\n",
       "      <td>-5.555239e-01</td>\n",
       "    </tr>\n",
       "    <tr>\n",
       "      <th>75%</th>\n",
       "      <td>5.263146e-01</td>\n",
       "      <td>3.216407e-01</td>\n",
       "      <td>8.429230e-01</td>\n",
       "      <td>8.629604e-01</td>\n",
       "      <td>4.375576e-01</td>\n",
       "    </tr>\n",
       "    <tr>\n",
       "      <th>max</th>\n",
       "      <td>3.263712e+00</td>\n",
       "      <td>4.613525e+00</td>\n",
       "      <td>1.889859e+00</td>\n",
       "      <td>1.996667e+00</td>\n",
       "      <td>5.688108e+00</td>\n",
       "    </tr>\n",
       "  </tbody>\n",
       "</table>\n",
       "</div>"
      ],
      "text/plain": [
       "             Income         CCAvg           Age    Experience      Mortgage\n",
       "count  5.000000e+03  5.000000e+03  5.000000e+03  5.000000e+03  5.000000e+03\n",
       "mean   1.939449e-16 -2.078338e-17  2.478018e-17 -1.693312e-16  2.810197e-16\n",
       "std    1.000100e+00  1.000100e+00  1.000100e+00  1.000100e+00  1.000100e+00\n",
       "min   -1.428969e+00 -1.108987e+00 -1.948906e+00 -2.014911e+00 -5.555239e-01\n",
       "25%   -7.554825e-01 -7.084116e-01 -9.019702e-01 -8.812043e-01 -5.555239e-01\n",
       "50%   -2.123482e-01 -2.506106e-01 -2.952359e-02 -9.121982e-03 -5.555239e-01\n",
       "75%    5.263146e-01  3.216407e-01  8.429230e-01  8.629604e-01  4.375576e-01\n",
       "max    3.263712e+00  4.613525e+00  1.889859e+00  1.996667e+00  5.688108e+00"
      ]
     },
     "execution_count": 17,
     "metadata": {},
     "output_type": "execute_result"
    }
   ],
   "source": [
    "bank_scaled[cluster_cols].describe()"
   ]
  },
  {
   "cell_type": "markdown",
   "metadata": {},
   "source": [
    "**3. Perform k-means clustering  specifying 3 clusters using the scaled features. Specify random_state as 42.**"
   ]
  },
  {
   "cell_type": "code",
   "execution_count": 18,
   "metadata": {},
   "outputs": [],
   "source": [
    "model = KMeans(n_clusters=3, random_state=42)\n",
    "model.fit(bank_scaled[cluster_cols])\n",
    "\n",
    "bank_scaled['Cluster'] = model.predict(bank_scaled[cluster_cols])"
   ]
  },
  {
   "cell_type": "markdown",
   "metadata": {},
   "source": [
    "**4. Using PCA on the scaled columns, create new columns 'pc1' and 'pc2' containing the data for PC1 and PC2 respectively.**"
   ]
  },
  {
   "cell_type": "code",
   "execution_count": 19,
   "metadata": {},
   "outputs": [],
   "source": [
    "from sklearn import decomposition\n",
    "\n",
    "pca = decomposition.PCA(n_components=2)\n",
    "pca_res = pca.fit_transform(bank_scaled[cluster_cols])\n",
    "\n",
    "bank_scaled['pc1'] = pca_res[:,0]\n",
    "bank_scaled['pc2'] = pca_res[:,1]"
   ]
  },
  {
   "cell_type": "markdown",
   "metadata": {},
   "source": [
    "**5. Visualize the clusters by using different markers and colours for the clusters on a scatterplot between 'pc1' and 'pc2'**"
   ]
  },
  {
   "cell_type": "code",
   "execution_count": 26,
   "metadata": {},
   "outputs": [
    {
     "data": {
      "image/png": "[encoded data removed]",
      "text/plain": [
       "<Figure size 432x288 with 1 Axes>"
      ]
     },
     "metadata": {
      "needs_background": "light"
     },
     "output_type": "display_data"
    }
   ],
   "source": [
    "markers = ['x', '.', '_']\n",
    "\n",
    "for clust in range(3):\n",
    "    temp = bank_scaled[bank_scaled.Cluster == clust]\n",
    "    plt.scatter(temp.pc1, temp.pc2, marker=markers[clust], \\\n",
    "                label=\"Cluster \"+str(clust), \\\n",
    "                color = 'gray')\n",
    "\n",
    "plt.xlabel('PC1')\n",
    "plt.ylabel('PC2')\n",
    "plt.legend()\n",
    "plt.show()"
   ]
  },
  {
   "cell_type": "markdown",
   "metadata": {},
   "source": [
    "**6. To understand the clusters better, print the avg. values of the original features used for clustering against the three clusters. Which features are the most differentiated for the clusters?**"
   ]
  },
  {
   "cell_type": "code",
   "execution_count": 19,
   "metadata": {},
   "outputs": [
    {
     "data": {
      "text/html": [
       "<div>\n",
       "<style scoped>\n",
       "    .dataframe tbody tr th:only-of-type {\n",
       "        vertical-align: middle;\n",
       "    }\n",
       "\n",
       "    .dataframe tbody tr th {\n",
       "        vertical-align: top;\n",
       "    }\n",
       "\n",
       "    .dataframe thead th {\n",
       "        text-align: right;\n",
       "    }\n",
       "</style>\n",
       "<table border=\"1\" class=\"dataframe\">\n",
       "  <thead>\n",
       "    <tr style=\"text-align: right;\">\n",
       "      <th></th>\n",
       "      <th>Income</th>\n",
       "      <th>CCAvg</th>\n",
       "      <th>Age</th>\n",
       "      <th>Experience</th>\n",
       "      <th>Mortgage</th>\n",
       "    </tr>\n",
       "    <tr>\n",
       "      <th>Cluster</th>\n",
       "      <th></th>\n",
       "      <th></th>\n",
       "      <th></th>\n",
       "      <th></th>\n",
       "      <th></th>\n",
       "    </tr>\n",
       "  </thead>\n",
       "  <tbody>\n",
       "    <tr>\n",
       "      <th>0</th>\n",
       "      <td>147.650185</td>\n",
       "      <td>4.856403</td>\n",
       "      <td>43.672435</td>\n",
       "      <td>18.644005</td>\n",
       "      <td>116.279357</td>\n",
       "    </tr>\n",
       "    <tr>\n",
       "      <th>1</th>\n",
       "      <td>58.941774</td>\n",
       "      <td>1.367514</td>\n",
       "      <td>55.536044</td>\n",
       "      <td>30.233826</td>\n",
       "      <td>45.134935</td>\n",
       "    </tr>\n",
       "    <tr>\n",
       "      <th>2</th>\n",
       "      <td>60.124322</td>\n",
       "      <td>1.382121</td>\n",
       "      <td>35.116428</td>\n",
       "      <td>9.873705</td>\n",
       "      <td>44.771584</td>\n",
       "    </tr>\n",
       "  </tbody>\n",
       "</table>\n",
       "</div>"
      ],
      "text/plain": [
       "             Income     CCAvg        Age  Experience    Mortgage\n",
       "Cluster                                                         \n",
       "0        147.650185  4.856403  43.672435   18.644005  116.279357\n",
       "1         58.941774  1.367514  55.536044   30.233826   45.134935\n",
       "2         60.124322  1.382121  35.116428    9.873705   44.771584"
      ]
     },
     "execution_count": 19,
     "metadata": {},
     "output_type": "execute_result"
    }
   ],
   "source": [
    "bank0['Cluster'] = bank_scaled.Cluster\n",
    "\n",
    "bank0.groupby('Cluster')[cluster_cols].mean()"
   ]
  },
  {
   "cell_type": "markdown",
   "metadata": {},
   "source": [
    "**7. To understand the clusters better using other relevant features, print the average values against the clusters for the features Age, Mortgage, Family, CreditCard, Online, Personal Loan. Which cluster has the highest propensity for taking a personal loan?**"
   ]
  },
  {
   "cell_type": "code",
   "execution_count": 20,
   "metadata": {},
   "outputs": [
    {
     "data": {
      "text/html": [
       "<div>\n",
       "<style scoped>\n",
       "    .dataframe tbody tr th:only-of-type {\n",
       "        vertical-align: middle;\n",
       "    }\n",
       "\n",
       "    .dataframe tbody tr th {\n",
       "        vertical-align: top;\n",
       "    }\n",
       "\n",
       "    .dataframe thead th {\n",
       "        text-align: right;\n",
       "    }\n",
       "</style>\n",
       "<table border=\"1\" class=\"dataframe\">\n",
       "  <thead>\n",
       "    <tr style=\"text-align: right;\">\n",
       "      <th></th>\n",
       "      <th>Income</th>\n",
       "      <th>CCAvg</th>\n",
       "      <th>Age</th>\n",
       "      <th>Experience</th>\n",
       "      <th>Mortgage</th>\n",
       "      <th>Family</th>\n",
       "      <th>CreditCard</th>\n",
       "      <th>Online</th>\n",
       "      <th>Personal Loan</th>\n",
       "    </tr>\n",
       "    <tr>\n",
       "      <th>Cluster</th>\n",
       "      <th></th>\n",
       "      <th></th>\n",
       "      <th></th>\n",
       "      <th></th>\n",
       "      <th></th>\n",
       "      <th></th>\n",
       "      <th></th>\n",
       "      <th></th>\n",
       "      <th></th>\n",
       "    </tr>\n",
       "  </thead>\n",
       "  <tbody>\n",
       "    <tr>\n",
       "      <th>0</th>\n",
       "      <td>147.650185</td>\n",
       "      <td>4.856403</td>\n",
       "      <td>43.672435</td>\n",
       "      <td>18.644005</td>\n",
       "      <td>116.279357</td>\n",
       "      <td>2.002472</td>\n",
       "      <td>0.299135</td>\n",
       "      <td>0.613103</td>\n",
       "      <td>0.398022</td>\n",
       "    </tr>\n",
       "    <tr>\n",
       "      <th>1</th>\n",
       "      <td>58.941774</td>\n",
       "      <td>1.367514</td>\n",
       "      <td>55.536044</td>\n",
       "      <td>30.233826</td>\n",
       "      <td>45.134935</td>\n",
       "      <td>2.397874</td>\n",
       "      <td>0.300370</td>\n",
       "      <td>0.604898</td>\n",
       "      <td>0.039741</td>\n",
       "    </tr>\n",
       "    <tr>\n",
       "      <th>2</th>\n",
       "      <td>60.124322</td>\n",
       "      <td>1.382121</td>\n",
       "      <td>35.116428</td>\n",
       "      <td>9.873705</td>\n",
       "      <td>44.771584</td>\n",
       "      <td>2.552047</td>\n",
       "      <td>0.285150</td>\n",
       "      <td>0.581648</td>\n",
       "      <td>0.035520</td>\n",
       "    </tr>\n",
       "  </tbody>\n",
       "</table>\n",
       "</div>"
      ],
      "text/plain": [
       "             Income     CCAvg        Age  Experience    Mortgage    Family  \\\n",
       "Cluster                                                                      \n",
       "0        147.650185  4.856403  43.672435   18.644005  116.279357  2.002472   \n",
       "1         58.941774  1.367514  55.536044   30.233826   45.134935  2.397874   \n",
       "2         60.124322  1.382121  35.116428    9.873705   44.771584  2.552047   \n",
       "\n",
       "         CreditCard    Online  Personal Loan  \n",
       "Cluster                                       \n",
       "0          0.299135  0.613103       0.398022  \n",
       "1          0.300370  0.604898       0.039741  \n",
       "2          0.285150  0.581648       0.035520  "
      ]
     },
     "execution_count": 20,
     "metadata": {},
     "output_type": "execute_result"
    }
   ],
   "source": [
    "sel_cols = ['Income', 'CCAvg', 'Age', 'Experience', 'Mortgage', 'Family', 'CreditCard', 'Online', 'Personal Loan']\n",
    "\n",
    "bank0.groupby('Cluster')[sel_cols].mean()"
   ]
  },
  {
   "cell_type": "markdown",
   "metadata": {},
   "source": [
    "Clusters are different on different parameters. But it looks like the clusters 1 and 2 have very similar propensity to go for a personal loan."
   ]
  },
  {
   "cell_type": "markdown",
   "metadata": {},
   "source": [
    "**8. Based on your understanding of the clusters, assign descriptive lables for the clusters.**"
   ]
  },
  {
   "cell_type": "markdown",
   "metadata": {},
   "source": [
    "Key differentiating features for the clusters are - \n",
    "- Age\n",
    "- Income, CCAvg, Mortgage follow similar patterns for the clusters\n",
    "\n",
    "Some basic labels for these clusters can be - \n",
    "\n",
    "* Cluster 0: Middle aged spenders (high income, high spend)\n",
    "* Cluster 1: Old low spend potential\n",
    "* Cluster 2: Young low spend potential"
   ]
  }
 ],
 "metadata": {
  "kernelspec": {
   "display_name": "Python 3",
   "language": "python",
   "name": "python3"
  },
  "language_info": {
   "codemirror_mode": {
    "name": "ipython",
    "version": 3
   },
   "file_extension": ".py",
   "mimetype": "text/x-python",
   "name": "python",
   "nbconvert_exporter": "python",
   "pygments_lexer": "ipython3",
   "version": "3.7.4"
  }
 },
 "nbformat": 4,
 "nbformat_minor": 4
}

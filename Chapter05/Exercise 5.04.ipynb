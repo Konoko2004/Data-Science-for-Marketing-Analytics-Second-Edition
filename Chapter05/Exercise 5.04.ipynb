{
 "cells": [
  {
   "cell_type": "markdown",
   "metadata": {},
   "source": [
    "## Exercise 5.04: Building a Linear Model Predicting Customer Spend"
   ]
  },
  {
   "cell_type": "code",
   "execution_count": 28,
   "metadata": {},
   "outputs": [],
   "source": [
    "df = pd.read_csv('wrangled_transactions.csv', \\\n",
    "                 index_col='CustomerID')"
   ]
  },
  {
   "cell_type": "code",
   "execution_count": 29,
   "metadata": {},
   "outputs": [
    {
     "data": {
      "text/html": [
       "<div>\n",
       "<style scoped>\n",
       "    .dataframe tbody tr th:only-of-type {\n",
       "        vertical-align: middle;\n",
       "    }\n",
       "\n",
       "    .dataframe tbody tr th {\n",
       "        vertical-align: top;\n",
       "    }\n",
       "\n",
       "    .dataframe thead th {\n",
       "        text-align: right;\n",
       "    }\n",
       "</style>\n",
       "<table border=\"1\" class=\"dataframe\">\n",
       "  <thead>\n",
       "    <tr style=\"text-align: right;\">\n",
       "      <th></th>\n",
       "      <th>revenue_2019</th>\n",
       "      <th>days_since_first_purchase</th>\n",
       "      <th>days_since_last_purchase</th>\n",
       "      <th>number_of_purchases</th>\n",
       "      <th>avg_order_cost</th>\n",
       "      <th>revenue_2020</th>\n",
       "    </tr>\n",
       "  </thead>\n",
       "  <tbody>\n",
       "    <tr>\n",
       "      <th>revenue_2019</th>\n",
       "      <td>1.000000</td>\n",
       "      <td>0.109692</td>\n",
       "      <td>-0.254964</td>\n",
       "      <td>0.504438</td>\n",
       "      <td>0.779401</td>\n",
       "      <td>0.548234</td>\n",
       "    </tr>\n",
       "    <tr>\n",
       "      <th>days_since_first_purchase</th>\n",
       "      <td>0.109692</td>\n",
       "      <td>1.000000</td>\n",
       "      <td>0.641574</td>\n",
       "      <td>0.327502</td>\n",
       "      <td>-0.074321</td>\n",
       "      <td>0.061743</td>\n",
       "    </tr>\n",
       "    <tr>\n",
       "      <th>days_since_last_purchase</th>\n",
       "      <td>-0.254964</td>\n",
       "      <td>0.641574</td>\n",
       "      <td>1.000000</td>\n",
       "      <td>-0.398268</td>\n",
       "      <td>-0.054051</td>\n",
       "      <td>-0.171294</td>\n",
       "    </tr>\n",
       "    <tr>\n",
       "      <th>number_of_purchases</th>\n",
       "      <td>0.504438</td>\n",
       "      <td>0.327502</td>\n",
       "      <td>-0.398268</td>\n",
       "      <td>1.000000</td>\n",
       "      <td>-0.012466</td>\n",
       "      <td>0.355751</td>\n",
       "    </tr>\n",
       "    <tr>\n",
       "      <th>avg_order_cost</th>\n",
       "      <td>0.779401</td>\n",
       "      <td>-0.074321</td>\n",
       "      <td>-0.054051</td>\n",
       "      <td>-0.012466</td>\n",
       "      <td>1.000000</td>\n",
       "      <td>0.357384</td>\n",
       "    </tr>\n",
       "    <tr>\n",
       "      <th>revenue_2020</th>\n",
       "      <td>0.548234</td>\n",
       "      <td>0.061743</td>\n",
       "      <td>-0.171294</td>\n",
       "      <td>0.355751</td>\n",
       "      <td>0.357384</td>\n",
       "      <td>1.000000</td>\n",
       "    </tr>\n",
       "  </tbody>\n",
       "</table>\n",
       "</div>"
      ],
      "text/plain": [
       "                           revenue_2019  days_since_first_purchase  \\\n",
       "revenue_2019                   1.000000                   0.109692   \n",
       "days_since_first_purchase      0.109692                   1.000000   \n",
       "days_since_last_purchase      -0.254964                   0.641574   \n",
       "number_of_purchases            0.504438                   0.327502   \n",
       "avg_order_cost                 0.779401                  -0.074321   \n",
       "revenue_2020                   0.548234                   0.061743   \n",
       "\n",
       "                           days_since_last_purchase  number_of_purchases  \\\n",
       "revenue_2019                              -0.254964             0.504438   \n",
       "days_since_first_purchase                  0.641574             0.327502   \n",
       "days_since_last_purchase                   1.000000            -0.398268   \n",
       "number_of_purchases                       -0.398268             1.000000   \n",
       "avg_order_cost                            -0.054051            -0.012466   \n",
       "revenue_2020                              -0.171294             0.355751   \n",
       "\n",
       "                           avg_order_cost  revenue_2020  \n",
       "revenue_2019                     0.779401      0.548234  \n",
       "days_since_first_purchase       -0.074321      0.061743  \n",
       "days_since_last_purchase        -0.054051     -0.171294  \n",
       "number_of_purchases             -0.012466      0.355751  \n",
       "avg_order_cost                   1.000000      0.357384  \n",
       "revenue_2020                     0.357384      1.000000  "
      ]
     },
     "execution_count": 29,
     "metadata": {},
     "output_type": "execute_result"
    }
   ],
   "source": [
    "df.corr()"
   ]
  },
  {
   "cell_type": "code",
   "execution_count": 30,
   "metadata": {},
   "outputs": [],
   "source": [
    "X = df[['revenue_2019',\\\n",
    "        'days_since_last_purchase',\\\n",
    "        'number_of_purchases',\\\n",
    "        'avg_order_cost']]\n",
    "\n",
    "y = df['revenue_2020']"
   ]
  },
  {
   "cell_type": "code",
   "execution_count": 31,
   "metadata": {},
   "outputs": [],
   "source": [
    "from sklearn.model_selection import train_test_split\n",
    "\n",
    "X_train, X_test, y_train, y_test = train_test_split(X, y, random_state = 100)"
   ]
  },
  {
   "cell_type": "code",
   "execution_count": 32,
   "metadata": {},
   "outputs": [
    {
     "data": {
      "text/plain": [
       "LinearRegression()"
      ]
     },
     "execution_count": 32,
     "metadata": {},
     "output_type": "execute_result"
    }
   ],
   "source": [
    "from sklearn.linear_model import LinearRegression\n",
    "\n",
    "model = LinearRegression()\n",
    "model.fit(X_train,y_train)"
   ]
  },
  {
   "cell_type": "code",
   "execution_count": 33,
   "metadata": {},
   "outputs": [
    {
     "data": {
      "text/plain": [
       "array([  5.78799016,   7.47737544, 336.60769871,  -2.0558923 ])"
      ]
     },
     "execution_count": 33,
     "metadata": {},
     "output_type": "execute_result"
    }
   ],
   "source": [
    "model.coef_"
   ]
  },
  {
   "cell_type": "code",
   "execution_count": 34,
   "metadata": {},
   "outputs": [
    {
     "data": {
      "text/plain": [
       "264.8693265705988"
      ]
     },
     "execution_count": 34,
     "metadata": {},
     "output_type": "execute_result"
    }
   ],
   "source": [
    "model.intercept_"
   ]
  },
  {
   "cell_type": "code",
   "execution_count": 35,
   "metadata": {},
   "outputs": [
    {
     "data": {
      "text/plain": [
       "array([5847.67624446])"
      ]
     },
     "execution_count": 35,
     "metadata": {},
     "output_type": "execute_result"
    }
   ],
   "source": [
    "single_customer = pd.DataFrame({'revenue_2019': [1000],\\\n",
    "                                'days_since_last_purchase': [20],\\\n",
    "                                'number_of_purchases': [2],\\\n",
    "                                'avg_order_cost': [500]})\n",
    "\n",
    "model.predict(single_customer)"
   ]
  },
  {
   "cell_type": "code",
   "execution_count": 36,
   "metadata": {},
   "outputs": [
    {
     "data": {
      "image/png": "[encoded data removed]",
      "text/plain": [
       "<Figure size 432x288 with 1 Axes>"
      ]
     },
     "metadata": {
      "needs_background": "light"
     },
     "output_type": "display_data"
    }
   ],
   "source": [
    "import matplotlib.pyplot as plt\n",
    "%matplotlib inline\n",
    "\n",
    "plt.scatter(model.predict(X_test), y_test, color='gray')\n",
    "plt.xlim(0,10000)\n",
    "plt.ylim(0,10000)\n",
    "plt.plot([0, 10000], [0, 10000], 'k-')\n",
    "plt.xlabel('Model Predictions')\n",
    "plt.ylabel('True Value')\n",
    "plt.show()"
   ]
  },
  {
   "cell_type": "code",
   "execution_count": 37,
   "metadata": {},
   "outputs": [
    {
     "data": {
      "text/plain": [
       "array([[1.        , 0.61257401],\n",
       "       [0.61257401, 1.        ]])"
      ]
     },
     "execution_count": 37,
     "metadata": {},
     "output_type": "execute_result"
    }
   ],
   "source": [
    "np.corrcoef(model.predict(X_test), y_test)"
   ]
  }
 ],
 "metadata": {
  "kernelspec": {
   "display_name": "Python 3",
   "language": "python",
   "name": "python3"
  },
  "language_info": {
   "codemirror_mode": {
    "name": "ipython",
    "version": 3
   },
   "file_extension": ".py",
   "mimetype": "text/x-python",
   "name": "python",
   "nbconvert_exporter": "python",
   "pygments_lexer": "ipython3",
   "version": "3.7.4"
  }
 },
 "nbformat": 4,
 "nbformat_minor": 2
}
